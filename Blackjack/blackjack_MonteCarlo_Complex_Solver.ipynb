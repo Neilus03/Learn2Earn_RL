{
  "nbformat": 4,
  "nbformat_minor": 0,
  "metadata": {
    "colab": {
      "provenance": []
    },
    "kernelspec": {
      "name": "python3",
      "display_name": "Python 3"
    },
    "language_info": {
      "name": "python"
    }
  },
  "cells": [
    {
      "cell_type": "code",
      "source": [
        "%pip install wandb\n",
        "%pip install matplotlib\n",
        "%pip install numpy\n",
        "%pip install tqdm\n",
        "%matplotlib inline\n",
        "%pip install gymnasium==0.29.1"
      ],
      "metadata": {
        "colab": {
          "base_uri": "https://localhost:8080/"
        },
        "id": "uYSzuVTSc1wB",
        "outputId": "458d2b38-8676-4210-d911-13825ee7843f"
      },
      "execution_count": null,
      "outputs": [
        {
          "output_type": "stream",
          "name": "stdout",
          "text": [
            "Collecting wandb\n",
            "  Downloading wandb-0.16.0-py3-none-any.whl (2.1 MB)\n",
            "\u001b[2K     \u001b[90m━━━━━━━━━━━━━━━━━━━━━━━━━━━━━━━━━━━━━━━━\u001b[0m \u001b[32m2.1/2.1 MB\u001b[0m \u001b[31m19.7 MB/s\u001b[0m eta \u001b[36m0:00:00\u001b[0m\n",
            "\u001b[?25hRequirement already satisfied: Click!=8.0.0,>=7.1 in /usr/local/lib/python3.10/dist-packages (from wandb) (8.1.7)\n",
            "Collecting GitPython!=3.1.29,>=1.0.0 (from wandb)\n",
            "  Downloading GitPython-3.1.40-py3-none-any.whl (190 kB)\n",
            "\u001b[2K     \u001b[90m━━━━━━━━━━━━━━━━━━━━━━━━━━━━━━━━━━━━━━━━\u001b[0m \u001b[32m190.6/190.6 kB\u001b[0m \u001b[31m19.7 MB/s\u001b[0m eta \u001b[36m0:00:00\u001b[0m\n",
            "\u001b[?25hRequirement already satisfied: requests<3,>=2.0.0 in /usr/local/lib/python3.10/dist-packages (from wandb) (2.31.0)\n",
            "Requirement already satisfied: psutil>=5.0.0 in /usr/local/lib/python3.10/dist-packages (from wandb) (5.9.5)\n",
            "Collecting sentry-sdk>=1.0.0 (from wandb)\n",
            "  Downloading sentry_sdk-1.34.0-py2.py3-none-any.whl (243 kB)\n",
            "\u001b[2K     \u001b[90m━━━━━━━━━━━━━━━━━━━━━━━━━━━━━━━━━━━━━━━━\u001b[0m \u001b[32m243.9/243.9 kB\u001b[0m \u001b[31m26.2 MB/s\u001b[0m eta \u001b[36m0:00:00\u001b[0m\n",
            "\u001b[?25hCollecting docker-pycreds>=0.4.0 (from wandb)\n",
            "  Downloading docker_pycreds-0.4.0-py2.py3-none-any.whl (9.0 kB)\n",
            "Requirement already satisfied: PyYAML in /usr/local/lib/python3.10/dist-packages (from wandb) (6.0.1)\n",
            "Collecting setproctitle (from wandb)\n",
            "  Downloading setproctitle-1.3.3-cp310-cp310-manylinux_2_5_x86_64.manylinux1_x86_64.manylinux_2_17_x86_64.manylinux2014_x86_64.whl (30 kB)\n",
            "Requirement already satisfied: setuptools in /usr/local/lib/python3.10/dist-packages (from wandb) (67.7.2)\n",
            "Requirement already satisfied: appdirs>=1.4.3 in /usr/local/lib/python3.10/dist-packages (from wandb) (1.4.4)\n",
            "Requirement already satisfied: protobuf!=4.21.0,<5,>=3.19.0 in /usr/local/lib/python3.10/dist-packages (from wandb) (3.20.3)\n",
            "Requirement already satisfied: six>=1.4.0 in /usr/local/lib/python3.10/dist-packages (from docker-pycreds>=0.4.0->wandb) (1.16.0)\n",
            "Collecting gitdb<5,>=4.0.1 (from GitPython!=3.1.29,>=1.0.0->wandb)\n",
            "  Downloading gitdb-4.0.11-py3-none-any.whl (62 kB)\n",
            "\u001b[2K     \u001b[90m━━━━━━━━━━━━━━━━━━━━━━━━━━━━━━━━━━━━━━━━\u001b[0m \u001b[32m62.7/62.7 kB\u001b[0m \u001b[31m5.7 MB/s\u001b[0m eta \u001b[36m0:00:00\u001b[0m\n",
            "\u001b[?25hRequirement already satisfied: charset-normalizer<4,>=2 in /usr/local/lib/python3.10/dist-packages (from requests<3,>=2.0.0->wandb) (3.3.2)\n",
            "Requirement already satisfied: idna<4,>=2.5 in /usr/local/lib/python3.10/dist-packages (from requests<3,>=2.0.0->wandb) (3.4)\n",
            "Requirement already satisfied: urllib3<3,>=1.21.1 in /usr/local/lib/python3.10/dist-packages (from requests<3,>=2.0.0->wandb) (2.0.7)\n",
            "Requirement already satisfied: certifi>=2017.4.17 in /usr/local/lib/python3.10/dist-packages (from requests<3,>=2.0.0->wandb) (2023.7.22)\n",
            "Collecting smmap<6,>=3.0.1 (from gitdb<5,>=4.0.1->GitPython!=3.1.29,>=1.0.0->wandb)\n",
            "  Downloading smmap-5.0.1-py3-none-any.whl (24 kB)\n",
            "Installing collected packages: smmap, setproctitle, sentry-sdk, docker-pycreds, gitdb, GitPython, wandb\n",
            "Successfully installed GitPython-3.1.40 docker-pycreds-0.4.0 gitdb-4.0.11 sentry-sdk-1.34.0 setproctitle-1.3.3 smmap-5.0.1 wandb-0.16.0\n",
            "Requirement already satisfied: matplotlib in /usr/local/lib/python3.10/dist-packages (3.7.1)\n",
            "Requirement already satisfied: contourpy>=1.0.1 in /usr/local/lib/python3.10/dist-packages (from matplotlib) (1.2.0)\n",
            "Requirement already satisfied: cycler>=0.10 in /usr/local/lib/python3.10/dist-packages (from matplotlib) (0.12.1)\n",
            "Requirement already satisfied: fonttools>=4.22.0 in /usr/local/lib/python3.10/dist-packages (from matplotlib) (4.44.0)\n",
            "Requirement already satisfied: kiwisolver>=1.0.1 in /usr/local/lib/python3.10/dist-packages (from matplotlib) (1.4.5)\n",
            "Requirement already satisfied: numpy>=1.20 in /usr/local/lib/python3.10/dist-packages (from matplotlib) (1.23.5)\n",
            "Requirement already satisfied: packaging>=20.0 in /usr/local/lib/python3.10/dist-packages (from matplotlib) (23.2)\n",
            "Requirement already satisfied: pillow>=6.2.0 in /usr/local/lib/python3.10/dist-packages (from matplotlib) (9.4.0)\n",
            "Requirement already satisfied: pyparsing>=2.3.1 in /usr/local/lib/python3.10/dist-packages (from matplotlib) (3.1.1)\n",
            "Requirement already satisfied: python-dateutil>=2.7 in /usr/local/lib/python3.10/dist-packages (from matplotlib) (2.8.2)\n",
            "Requirement already satisfied: six>=1.5 in /usr/local/lib/python3.10/dist-packages (from python-dateutil>=2.7->matplotlib) (1.16.0)\n",
            "Requirement already satisfied: numpy in /usr/local/lib/python3.10/dist-packages (1.23.5)\n",
            "Requirement already satisfied: tqdm in /usr/local/lib/python3.10/dist-packages (4.66.1)\n",
            "Collecting gymnasium==0.29.1\n",
            "  Downloading gymnasium-0.29.1-py3-none-any.whl (953 kB)\n",
            "\u001b[2K     \u001b[90m━━━━━━━━━━━━━━━━━━━━━━━━━━━━━━━━━━━━━━━━\u001b[0m \u001b[32m953.9/953.9 kB\u001b[0m \u001b[31m9.5 MB/s\u001b[0m eta \u001b[36m0:00:00\u001b[0m\n",
            "\u001b[?25hRequirement already satisfied: numpy>=1.21.0 in /usr/local/lib/python3.10/dist-packages (from gymnasium==0.29.1) (1.23.5)\n",
            "Requirement already satisfied: cloudpickle>=1.2.0 in /usr/local/lib/python3.10/dist-packages (from gymnasium==0.29.1) (2.2.1)\n",
            "Requirement already satisfied: typing-extensions>=4.3.0 in /usr/local/lib/python3.10/dist-packages (from gymnasium==0.29.1) (4.5.0)\n",
            "Collecting farama-notifications>=0.0.1 (from gymnasium==0.29.1)\n",
            "  Downloading Farama_Notifications-0.0.4-py3-none-any.whl (2.5 kB)\n",
            "Installing collected packages: farama-notifications, gymnasium\n",
            "Successfully installed farama-notifications-0.0.4 gymnasium-0.29.1\n"
          ]
        }
      ]
    },
    {
      "cell_type": "code",
      "source": [
        "#@title Imports\n",
        "from collections import defaultdict #for accessing keys which are not present in dictionary\n",
        "import matplotlib.pyplot as plt\n",
        "from tqdm import tqdm\n",
        "import numpy as np\n",
        "import gymnasium as gym\n",
        "import sys\n",
        "import random\n",
        "from matplotlib.patches import Patch\n",
        "import seaborn as sns"
      ],
      "metadata": {
        "id": "13P_3tJOc4cc"
      },
      "execution_count": null,
      "outputs": []
    },
    {
      "cell_type": "code",
      "execution_count": null,
      "metadata": {
        "id": "4lU5acW-cWuD"
      },
      "outputs": [],
      "source": [
        "class MC_BlackjackAgent:\n",
        "    def __init__(self):\n",
        "        pass\n",
        "\n",
        "    def train(self, mc_iterations=100000):\n",
        "        possible_nums = [1,2,3,4,5,6,7,8,9,10,10,10,10]\n",
        "        possible_current_sums = {i:0 for i in range(12,22)} #from 12 bcs for lower numbers you should always hit\n",
        "        for current_sum in tqdm(possible_current_sums):\n",
        "            for _ in range(mc_iterations):\n",
        "                hit_value = random.choice(possible_nums)\n",
        "                if hit_value == 1:\n",
        "                    if (current_sum + 11) <= 21:\n",
        "                        hit_value = 11\n",
        "                    else:\n",
        "                        hit_value = 1\n",
        "                if (current_sum + hit_value) > 21:\n",
        "                    possible_current_sums[current_sum] += 1\n",
        "\n",
        "\n",
        "        trivial_probabilities = {i:1 for i in range(1,12)}\n",
        "        self.likelihood_of_hit = trivial_probabilities | {i: 1 - round(possible_current_sums[i]/mc_iterations, 4) for i in possible_current_sums}\n",
        "\n",
        "        self.likelihood_of_hit_based_on_dealer = {i:round(v, 2) for i,v in zip(range(1,11), np.arange(0.9,1,0.01))}\n",
        "\n",
        "    def play(self, obs):\n",
        "        if obs[0] in range(1, 12):\n",
        "            return 1\n",
        "        elif obs[0] > 21:\n",
        "            return 0\n",
        "        else:\n",
        "            return 1 if random.rand() < (self.likelihood_of_hit[obs[0]] * self.likelihood_of_hit_based_on_dealer[obs[1]]) else 0\n"
      ]
    },
    {
      "cell_type": "code",
      "source": [
        "#initialize the agent\n",
        "agent = MC_BlackjackAgent()\n",
        "agent.train(mc_iterations=100000)\n"
      ],
      "metadata": {
        "colab": {
          "base_uri": "https://localhost:8080/"
        },
        "id": "Sd0BwHA0clcC",
        "outputId": "07d97b05-34ef-4bf5-a496-a3135179e90f"
      },
      "execution_count": null,
      "outputs": [
        {
          "output_type": "stream",
          "name": "stderr",
          "text": [
            "100%|██████████| 10/10 [00:00<00:00, 14.60it/s]\n"
          ]
        }
      ]
    },
    {
      "cell_type": "code",
      "source": [
        "agent.likelihood_of_hit, agent.likelihood_of_hit_based_on_dealer"
      ],
      "metadata": {
        "colab": {
          "base_uri": "https://localhost:8080/"
        },
        "id": "BZG5rIKfddpO",
        "outputId": "37dc43a5-fd28-4e6d-f11e-1b1e2ff699e0"
      },
      "execution_count": null,
      "outputs": [
        {
          "output_type": "execute_result",
          "data": {
            "text/plain": [
              "({1: 1,\n",
              "  2: 1,\n",
              "  3: 1,\n",
              "  4: 1,\n",
              "  5: 1,\n",
              "  6: 1,\n",
              "  7: 1,\n",
              "  8: 1,\n",
              "  9: 1,\n",
              "  10: 1,\n",
              "  11: 1,\n",
              "  12: 0.6899,\n",
              "  13: 0.6128,\n",
              "  14: 0.5395,\n",
              "  15: 0.4616,\n",
              "  16: 0.384,\n",
              "  17: 0.3073,\n",
              "  18: 0.22960000000000003,\n",
              "  19: 0.15410000000000001,\n",
              "  20: 0.07669999999999999,\n",
              "  21: 0.0},\n",
              " {1: 0.9,\n",
              "  2: 0.91,\n",
              "  3: 0.92,\n",
              "  4: 0.93,\n",
              "  5: 0.94,\n",
              "  6: 0.95,\n",
              "  7: 0.96,\n",
              "  8: 0.97,\n",
              "  9: 0.98,\n",
              "  10: 0.99})"
            ]
          },
          "metadata": {},
          "execution_count": 16
        }
      ]
    },
    {
      "cell_type": "code",
      "source": [],
      "metadata": {
        "id": "H41wf8s02hMW"
      },
      "execution_count": null,
      "outputs": []
    },
    {
      "cell_type": "code",
      "source": [
        "from collections import deque\n",
        "from gymnasium.wrappers import RecordEpisodeStatistics\n",
        "from IPython.display import clear_output\n",
        "import wandb\n",
        "import pygame\n",
        "from numpy import random\n",
        "\n",
        "#load the environment\n",
        "env = gym.make('Blackjack-v1',sab=False, natural=True, render_mode='rgb_array') #We are not folllowing the default sutton and barto book settings, which are sab=True, natural=False, render_mode='human'\n",
        "\n",
        "for _ in range(10):\n",
        "    # Initialize wandb\n",
        "    wandb.init(project=\"blackjack_MC_Complex_200\", entity=\"ai42\")\n",
        "    pygame.init()\n",
        "\n",
        "\n",
        "    n_episodes = 1000  # Define the number of episodes you want to run\n",
        "\n",
        "    wins = 0.0\n",
        "    losses = 0.0\n",
        "    draws = 0.0\n",
        "    naturals = 0.0\n",
        "\n",
        "    for episode in tqdm(range(n_episodes)):\n",
        "        obs, info = env.reset()\n",
        "        terminated, truncated = False, False\n",
        "        clear_output()\n",
        "        step = 0\n",
        "        episode_rewards = 0  # Initialize total rewards for the episode\n",
        "\n",
        "        while not terminated and not truncated:\n",
        "            action = agent.play(obs)  # Agent's policy\n",
        "            obs, reward, terminated, truncated, info = env.step(action)\n",
        "\n",
        "\n",
        "            frame = env.render()\n",
        "            step += 1\n",
        "            episode_rewards += reward  # Accumulate rewards\n",
        "\n",
        "            # Plot frame\n",
        "            plt.imshow(frame)\n",
        "            plt.axis('off')\n",
        "            plt.title(f\"Episode: {episode} - Step: {step} - Action Taken: {action} - Reward: {reward} - Terminated: {terminated}\")\n",
        "\n",
        "            plt.savefig('frame.png')\n",
        "            plt.close()\n",
        "\n",
        "            # Log the frame and rewards to wandb\n",
        "            wandb.log({\n",
        "                \"episode\": episode,\n",
        "                \"step\": step,\n",
        "                \"frame\": wandb.Image('frame.png'),\n",
        "                \"reward\": reward,\n",
        "                \"cumulative_reward\": episode_rewards\n",
        "            })\n",
        "        if reward == 1 or reward == 1.5:\n",
        "            wins += 1\n",
        "        elif reward == -1:\n",
        "            losses += 1\n",
        "        elif reward == 0:\n",
        "            draws += 1\n",
        "        if reward == 1.5:\n",
        "            naturals += 1\n",
        "\n",
        "    env.close()\n",
        "\n",
        "    # Let´s log general statistics of the training\n",
        "    wandb.log({\"Win_rate\": wins / n_episodes, \"Loss_rate\": losses / n_episodes, \"Draw_rate\": draws / n_episodes, \"Natural_win_rate\": naturals / n_episodes}) # Log the episode statistics to wandb\n"
      ],
      "metadata": {
        "id": "hH9wkn4fdVQv"
      },
      "execution_count": null,
      "outputs": []
    }
  ]
}