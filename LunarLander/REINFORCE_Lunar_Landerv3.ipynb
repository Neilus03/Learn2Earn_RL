{
 "cells": [
  {
   "cell_type": "code",
   "execution_count": 1,
   "metadata": {},
   "outputs": [],
   "source": [
    "import numpy as np\n",
    "import matplotlib.pyplot as plt\n",
    "import gymnasium as gym\n",
    "import torch\n",
    "import torch.nn as nn\n",
    "import torch.nn.functional as F\n",
    "import torch.optim as optim\n",
    "import random\n",
    "from collections import deque\n",
    "import time\n",
    "import seaborn as sns\n",
    "from tqdm import tqdm\n",
    "from matplotlib.patches import Patch\n",
    "import os\n",
    "import pygame\n",
    "import wandb"
   ]
  },
  {
   "cell_type": "code",
   "execution_count": 2,
   "metadata": {},
   "outputs": [],
   "source": [
    "#if you want to log and see the videos of the agent playing there, set wandb_log to True. If you want to see the videos in the Videos folder set wandb_log to False\n",
    "wandb_log = True"
   ]
  },
  {
   "cell_type": "code",
   "execution_count": 3,
   "metadata": {},
   "outputs": [],
   "source": [
    "# Set device for training (GPU if available)\n",
    "device = torch.device(\"cuda\" if torch.cuda.is_available() else \"cpu\")\n",
    "\n",
    "# Define the QNet class\n",
    "class REINFORCE(nn.Module):\n",
    "    def __init__(self, env, lr=0.005, device=device):\n",
    "        super(REINFORCE, self).__init__()\n",
    "        \n",
    "        # Set device for training (GPU if available)\n",
    "        self.device = device\n",
    "        \n",
    "        # Get state and action space dimensions\n",
    "        self.state_space_dim = env.observation_space.shape[0]\n",
    "        self.action_space_dim = env.action_space.n\n",
    "        \n",
    "        # Define possible actions\n",
    "        self.actions = torch.arange(self.action_space_dim).to(device)\n",
    "        \n",
    "        # Set learning rate\n",
    "        self.lr = lr\n",
    "        \n",
    "        # Define neural network architecture\n",
    "        self.net = nn.Sequential(\n",
    "            nn.Linear(self.state_space_dim, 16, bias=True),\n",
    "            nn.Tanh(),\n",
    "            nn.Linear(16, 32, bias=True),\n",
    "            nn.Tanh(),\n",
    "            nn.Linear(32, self.action_space_dim, bias=True),\n",
    "            nn.Softmax(dim=-1),\n",
    "            )\n",
    "        # Define optimizer\n",
    "        self.optimizer = optim.Adam(self.net.parameters(), lr=self.lr)\n",
    "\n",
    "        # Define lr scheduler\n",
    "        self.scheduler = optim.lr_scheduler.StepLR(self.optimizer, step_size=100, gamma=0.95)\n",
    "    \n",
    "    def forward(self, x):\n",
    "        # Forward pass through the network\n",
    "        return self.net(x.to(self.device))\n",
    "    \n",
    "    \n",
    "    # Choose action based on epsilon-greedy policy\n",
    "    def act(self, state):\n",
    "        '''\n",
    "        Description:\n",
    "                     This function greedily chooses an action based on the policy\n",
    "                     network's output.\n",
    "\n",
    "        Input:  \n",
    "               state - current state of the environment\n",
    "        \n",
    "        Output:\n",
    "                action - action to take\n",
    "        '''\n",
    "        # Get action probabilities\n",
    "        action_probs = self.forward(state)\n",
    "              \n",
    "        #torch multinomial returns a tensor of indices of length 1, \n",
    "        #choosing the action with the highest probability as the action to take\n",
    "\n",
    "        action = torch.multinomial(action_probs, 1).item()  \n",
    "        \n",
    "        return action\n",
    "        \n",
    "    def update_policy(self, rewards, log_probs, gamma):\n",
    "        '''\n",
    "        Description: \n",
    "                     This function calculates the policy gradient loss for an episode\n",
    "                     and updates the model's weights. It uses the collected rewards and\n",
    "                     the log probabilities of the actions taken to adjust the policy in\n",
    "                     a direction that increases the expected return.\n",
    "                        \n",
    "        Input: \n",
    "               rewards - list of rewards collected during the episode\n",
    "        \n",
    "               log_probs - list of log probabilities corresponding to \n",
    "                           the probability of taking each action that\n",
    "                           was actually taken, as computed by the policy network.\n",
    "                           \n",
    "               gamma - discount factor which is used to calculate the present value of\n",
    "                       future rewards, thereby weighing immediate rewards against future\n",
    "                       rewards\n",
    "               \n",
    "        Output: \n",
    "                loss - policy gradient loss\n",
    "        '''\n",
    "        \n",
    "        # Compute discounted rewards going backwards from the last state of the episode\n",
    "        discounted_rewards = []\n",
    "        R = 0\n",
    "        \n",
    "        for r in rewards[::-1]:    \n",
    "            # Reset reward sum if we encounter a non-zero reward\n",
    "  \n",
    "            R = r + gamma * R\n",
    "            \n",
    "            # Insert discounted reward at the beginning of the list\n",
    "            discounted_rewards.insert(0, R)\n",
    "    \n",
    "        # Convert discounted rewards to tensor and pass to device\n",
    "        discounted_rewards = torch.tensor(discounted_rewards, dtype=torch.float32).to(self.device)\n",
    "        \n",
    "        #Normalize discounted rewards\n",
    "        discounted_rewards = (discounted_rewards - discounted_rewards.mean()) / (discounted_rewards.std() + 1e-9)\n",
    "        \n",
    "        #List to store policy gradient loss \n",
    "        policy_gradient_loss = []\n",
    "        \n",
    "        # Compute policy gradient loss for each step of the episode\n",
    "        for log_prob, reward in zip(log_probs, discounted_rewards):\n",
    "            \n",
    "            # append the negative of the policy gradient loss to the list\n",
    "            policy_gradient_loss.append(-log_prob * reward)\n",
    "        \n",
    "        #Stack the sum of the policy gradient losses of this episode to the list of policy gradient loss    \n",
    "        loss = torch.stack(policy_gradient_loss).sum()\n",
    "        \n",
    "        # Reset gradients to zero\n",
    "        self.optimizer.zero_grad() \n",
    "        \n",
    "        # Backpropagate the loss\n",
    "        loss.backward()\n",
    "        \n",
    "        # Perform the optimization step\n",
    "        self.optimizer.step()\n",
    "        \n",
    "        return loss.item() # Return the loss as a float for logging\n",
    "        \n",
    "    def save_model(self, filename, path):\n",
    "        # Save model to file in path\n",
    "        if not os.path.exists(path):\n",
    "            os.makedirs(path)\n",
    "        torch.save(self.state_dict(), path + filename)\n",
    "        \n",
    "    \n",
    "    def load_model(self, filename, device='cuda'):\n",
    "        # Load model from file\n",
    "        self.load_state_dict(torch.load(filename, map_location=device))\n",
    "        \n"
   ]
  },
  {
   "cell_type": "code",
   "execution_count": 4,
   "metadata": {},
   "outputs": [],
   "source": [
    "#Auxiliary functions\n",
    "\n",
    "\n",
    "# Function to preprocess states\n",
    "def preprocess_state(state):\n",
    "    '''\n",
    "    This function converts the state to a tensor and adds a batch\n",
    "    dimension for PyTorch to process.\n",
    "    '''\n",
    "    # Convert state to a numpy array\n",
    "    return torch.from_numpy(state).float().unsqueeze(0).to(device)\n",
    "\n",
    "# Function to clear the video directory\n",
    "def log_clear_video_directory(video_dir):\n",
    "    '''\n",
    "    This function clears the video directory of all video files\n",
    "    and logs the most recent video file to wandb.\n",
    "    '''  \n",
    "    # Get list of video files in video directory \n",
    "    video_files = [f for f in os.listdir(video_dir) if f.endswith('.mp4')]\n",
    "    \n",
    "    # After each episode, log the video file to wandb\n",
    "    if video_files:\n",
    "        last_video_file = video_files[-1]  # Assuming the last file in the list is the most recent\n",
    "        wandb.log({\"episode_video\": wandb.Video(os.path.join(video_dir, last_video_file), fps=4, format=\"mp4\")})\n",
    "    \n",
    "    # Delete all video files in video directory\n",
    "    for file in video_files:\n",
    "        os.remove(os.path.join(video_dir, file))\n",
    "  \n",
    "# Function to log the episode rewards\n",
    "def log_rewards(episode_reward, last100_avg_reward, full_avg_reward):\n",
    "    # Log episode rewards\n",
    "    wandb.log({'Episode reward': episode_reward, 'Lat 100 episodes Average reward': last100_avg_reward, \"Full average reward\": full_avg_reward})"
   ]
  },
  {
   "cell_type": "code",
   "execution_count": 5,
   "metadata": {},
   "outputs": [
    {
     "name": "stderr",
     "output_type": "stream",
     "text": [
      "Failed to detect the name of this notebook, you can set it manually with the WANDB_NOTEBOOK_NAME environment variable to enable code saving.\n"
     ]
    },
    {
     "name": "stderr",
     "output_type": "stream",
     "text": [
      "\u001b[34m\u001b[1mwandb\u001b[0m: Currently logged in as: \u001b[33mneildlf\u001b[0m (\u001b[33mai42\u001b[0m). Use \u001b[1m`wandb login --relogin`\u001b[0m to force relogin\n"
     ]
    },
    {
     "data": {
      "text/html": [
       "wandb version 0.16.1 is available!  To upgrade, please run:\n",
       " $ pip install wandb --upgrade"
      ],
      "text/plain": [
       "<IPython.core.display.HTML object>"
      ]
     },
     "metadata": {},
     "output_type": "display_data"
    },
    {
     "data": {
      "text/html": [
       "Tracking run with wandb version 0.16.0"
      ],
      "text/plain": [
       "<IPython.core.display.HTML object>"
      ]
     },
     "metadata": {},
     "output_type": "display_data"
    },
    {
     "data": {
      "text/html": [
       "Run data is saved locally in <code>/home/ndelafuente/Desktop/Learn2Earn_RL-1/LunarLander/Reinforce/wandb/run-20231217_181645-mv9nxmwr</code>"
      ],
      "text/plain": [
       "<IPython.core.display.HTML object>"
      ]
     },
     "metadata": {},
     "output_type": "display_data"
    },
    {
     "data": {
      "text/html": [
       "Syncing run <strong><a href='https://wandb.ai/ai42/v3_reinforce_lunar_lander/runs/mv9nxmwr' target=\"_blank\">comic-bee-11</a></strong> to <a href='https://wandb.ai/ai42/v3_reinforce_lunar_lander' target=\"_blank\">Weights & Biases</a> (<a href='https://wandb.me/run' target=\"_blank\">docs</a>)<br/>"
      ],
      "text/plain": [
       "<IPython.core.display.HTML object>"
      ]
     },
     "metadata": {},
     "output_type": "display_data"
    },
    {
     "data": {
      "text/html": [
       " View project at <a href='https://wandb.ai/ai42/v3_reinforce_lunar_lander' target=\"_blank\">https://wandb.ai/ai42/v3_reinforce_lunar_lander</a>"
      ],
      "text/plain": [
       "<IPython.core.display.HTML object>"
      ]
     },
     "metadata": {},
     "output_type": "display_data"
    },
    {
     "data": {
      "text/html": [
       " View run at <a href='https://wandb.ai/ai42/v3_reinforce_lunar_lander/runs/mv9nxmwr' target=\"_blank\">https://wandb.ai/ai42/v3_reinforce_lunar_lander/runs/mv9nxmwr</a>"
      ],
      "text/plain": [
       "<IPython.core.display.HTML object>"
      ]
     },
     "metadata": {},
     "output_type": "display_data"
    },
    {
     "name": "stderr",
     "output_type": "stream",
     "text": [
      "/home/ndelafuente/miniconda3/envs/pytorch-env/lib/python3.11/site-packages/gymnasium/wrappers/record_video.py:94: UserWarning: \u001b[33mWARN: Overwriting existing videos at /home/ndelafuente/Desktop/Learn2Earn_RL-1/LunarLander/Reinforce/Videosv3 folder (try specifying a different `video_folder` for the `RecordVideo` wrapper if this is not desired)\u001b[0m\n",
      "  logger.warn(\n",
      "  0%|          | 0/100 [00:00<?, ?it/s]"
     ]
    },
    {
     "name": "stdout",
     "output_type": "stream",
     "text": [
      "Moviepy - Building video /home/ndelafuente/Desktop/Learn2Earn_RL-1/LunarLander/Reinforce/Videosv3/rl-video-episode-0.mp4.\n",
      "Moviepy - Writing video /home/ndelafuente/Desktop/Learn2Earn_RL-1/LunarLander/Reinforce/Videosv3/rl-video-episode-0.mp4\n",
      "\n"
     ]
    },
    {
     "name": "stderr",
     "output_type": "stream",
     "text": [
      "  0%|          | 0/100 [00:00<?, ?it/s]"
     ]
    },
    {
     "name": "stdout",
     "output_type": "stream",
     "text": [
      "Moviepy - Done !\n",
      "Moviepy - video ready /home/ndelafuente/Desktop/Learn2Earn_RL-1/LunarLander/Reinforce/Videosv3/rl-video-episode-0.mp4\n"
     ]
    },
    {
     "name": "stderr",
     "output_type": "stream",
     "text": [
      "/home/ndelafuente/miniconda3/envs/pytorch-env/lib/python3.11/site-packages/torch/optim/lr_scheduler.py:136: UserWarning: Detected call of `lr_scheduler.step()` before `optimizer.step()`. In PyTorch 1.1.0 and later, you should call them in the opposite order: `optimizer.step()` before `lr_scheduler.step()`.  Failure to do this will result in PyTorch skipping the first value of the learning rate schedule. See more details at https://pytorch.org/docs/stable/optim.html#how-to-adjust-learning-rate\n",
      "  warnings.warn(\"Detected call of `lr_scheduler.step()` before `optimizer.step()`. \"\n",
      "  1%|          | 1/100 [00:00<00:56,  1.75it/s]"
     ]
    },
    {
     "name": "stdout",
     "output_type": "stream",
     "text": [
      "Moviepy - Building video /home/ndelafuente/Desktop/Learn2Earn_RL-1/LunarLander/Reinforce/Videosv3/rl-video-episode-1.mp4.\n",
      "Moviepy - Writing video /home/ndelafuente/Desktop/Learn2Earn_RL-1/LunarLander/Reinforce/Videosv3/rl-video-episode-1.mp4\n",
      "\n"
     ]
    },
    {
     "name": "stderr",
     "output_type": "stream",
     "text": [
      "                                               \r"
     ]
    },
    {
     "name": "stdout",
     "output_type": "stream",
     "text": [
      "Moviepy - Done !\n"
     ]
    },
    {
     "name": "stderr",
     "output_type": "stream",
     "text": [
      "  2%|▏         | 2/100 [00:01<00:55,  1.75it/s]"
     ]
    },
    {
     "name": "stdout",
     "output_type": "stream",
     "text": [
      "Moviepy - video ready /home/ndelafuente/Desktop/Learn2Earn_RL-1/LunarLander/Reinforce/Videosv3/rl-video-episode-1.mp4\n",
      "Moviepy - Building video /home/ndelafuente/Desktop/Learn2Earn_RL-1/LunarLander/Reinforce/Videosv3/rl-video-episode-2.mp4.\n",
      "Moviepy - Writing video /home/ndelafuente/Desktop/Learn2Earn_RL-1/LunarLander/Reinforce/Videosv3/rl-video-episode-2.mp4\n",
      "\n"
     ]
    },
    {
     "name": "stderr",
     "output_type": "stream",
     "text": [
      "  3%|▎         | 3/100 [00:01<00:43,  2.25it/s]"
     ]
    },
    {
     "name": "stdout",
     "output_type": "stream",
     "text": [
      "Moviepy - Done !\n",
      "Moviepy - video ready /home/ndelafuente/Desktop/Learn2Earn_RL-1/LunarLander/Reinforce/Videosv3/rl-video-episode-2.mp4\n"
     ]
    },
    {
     "name": "stderr",
     "output_type": "stream",
     "text": [
      "  3%|▎         | 3/100 [00:01<00:43,  2.25it/s]"
     ]
    },
    {
     "name": "stdout",
     "output_type": "stream",
     "text": [
      "Moviepy - Building video /home/ndelafuente/Desktop/Learn2Earn_RL-1/LunarLander/Reinforce/Videosv3/rl-video-episode-3.mp4.\n",
      "Moviepy - Writing video /home/ndelafuente/Desktop/Learn2Earn_RL-1/LunarLander/Reinforce/Videosv3/rl-video-episode-3.mp4\n",
      "\n"
     ]
    },
    {
     "name": "stderr",
     "output_type": "stream",
     "text": [
      "  3%|▎         | 3/100 [00:01<00:43,  2.25it/s]"
     ]
    },
    {
     "name": "stdout",
     "output_type": "stream",
     "text": [
      "Moviepy - Done !\n",
      "Moviepy - video ready /home/ndelafuente/Desktop/Learn2Earn_RL-1/LunarLander/Reinforce/Videosv3/rl-video-episode-3.mp4\n"
     ]
    },
    {
     "name": "stderr",
     "output_type": "stream",
     "text": [
      "  4%|▍         | 4/100 [00:02<00:46,  2.06it/s]"
     ]
    },
    {
     "name": "stdout",
     "output_type": "stream",
     "text": [
      "Moviepy - Building video /home/ndelafuente/Desktop/Learn2Earn_RL-1/LunarLander/Reinforce/Videosv3/rl-video-episode-4.mp4.\n",
      "Moviepy - Writing video /home/ndelafuente/Desktop/Learn2Earn_RL-1/LunarLander/Reinforce/Videosv3/rl-video-episode-4.mp4\n",
      "\n"
     ]
    },
    {
     "name": "stderr",
     "output_type": "stream",
     "text": [
      "  5%|▌         | 5/100 [00:02<00:47,  2.01it/s]"
     ]
    },
    {
     "name": "stdout",
     "output_type": "stream",
     "text": [
      "Moviepy - Done !\n",
      "Moviepy - video ready /home/ndelafuente/Desktop/Learn2Earn_RL-1/LunarLander/Reinforce/Videosv3/rl-video-episode-4.mp4\n"
     ]
    },
    {
     "name": "stderr",
     "output_type": "stream",
     "text": [
      "  5%|▌         | 5/100 [00:03<00:47,  2.01it/s]"
     ]
    },
    {
     "name": "stdout",
     "output_type": "stream",
     "text": [
      "Moviepy - Building video /home/ndelafuente/Desktop/Learn2Earn_RL-1/LunarLander/Reinforce/Videosv3/rl-video-episode-5.mp4.\n",
      "Moviepy - Writing video /home/ndelafuente/Desktop/Learn2Earn_RL-1/LunarLander/Reinforce/Videosv3/rl-video-episode-5.mp4\n",
      "\n"
     ]
    },
    {
     "name": "stderr",
     "output_type": "stream",
     "text": [
      "  6%|▌         | 6/100 [00:04<01:43,  1.10s/it]"
     ]
    },
    {
     "name": "stdout",
     "output_type": "stream",
     "text": [
      "Moviepy - Done !\n",
      "Moviepy - video ready /home/ndelafuente/Desktop/Learn2Earn_RL-1/LunarLander/Reinforce/Videosv3/rl-video-episode-5.mp4\n"
     ]
    },
    {
     "name": "stderr",
     "output_type": "stream",
     "text": [
      "  6%|▌         | 6/100 [00:05<01:43,  1.10s/it]"
     ]
    },
    {
     "name": "stdout",
     "output_type": "stream",
     "text": [
      "Moviepy - Building video /home/ndelafuente/Desktop/Learn2Earn_RL-1/LunarLander/Reinforce/Videosv3/rl-video-episode-6.mp4.\n",
      "Moviepy - Writing video /home/ndelafuente/Desktop/Learn2Earn_RL-1/LunarLander/Reinforce/Videosv3/rl-video-episode-6.mp4\n",
      "\n"
     ]
    },
    {
     "name": "stderr",
     "output_type": "stream",
     "text": [
      "  6%|▌         | 6/100 [00:05<01:43,  1.10s/it]"
     ]
    },
    {
     "name": "stdout",
     "output_type": "stream",
     "text": [
      "Moviepy - Done !\n",
      "Moviepy - video ready /home/ndelafuente/Desktop/Learn2Earn_RL-1/LunarLander/Reinforce/Videosv3/rl-video-episode-6.mp4\n"
     ]
    },
    {
     "name": "stderr",
     "output_type": "stream",
     "text": [
      "  7%|▋         | 7/100 [00:05<01:22,  1.12it/s]"
     ]
    },
    {
     "name": "stdout",
     "output_type": "stream",
     "text": [
      "Moviepy - Building video /home/ndelafuente/Desktop/Learn2Earn_RL-1/LunarLander/Reinforce/Videosv3/rl-video-episode-7.mp4.\n",
      "Moviepy - Writing video /home/ndelafuente/Desktop/Learn2Earn_RL-1/LunarLander/Reinforce/Videosv3/rl-video-episode-7.mp4\n",
      "\n"
     ]
    },
    {
     "name": "stderr",
     "output_type": "stream",
     "text": [
      "  8%|▊         | 8/100 [00:05<01:04,  1.42it/s]"
     ]
    },
    {
     "name": "stdout",
     "output_type": "stream",
     "text": [
      "Moviepy - Done !\n",
      "Moviepy - video ready /home/ndelafuente/Desktop/Learn2Earn_RL-1/LunarLander/Reinforce/Videosv3/rl-video-episode-7.mp4\n"
     ]
    },
    {
     "name": "stderr",
     "output_type": "stream",
     "text": [
      "  8%|▊         | 8/100 [00:05<01:04,  1.42it/s]"
     ]
    },
    {
     "name": "stdout",
     "output_type": "stream",
     "text": [
      "Moviepy - Building video /home/ndelafuente/Desktop/Learn2Earn_RL-1/LunarLander/Reinforce/Videosv3/rl-video-episode-8.mp4.\n",
      "Moviepy - Writing video /home/ndelafuente/Desktop/Learn2Earn_RL-1/LunarLander/Reinforce/Videosv3/rl-video-episode-8.mp4\n",
      "\n"
     ]
    },
    {
     "name": "stderr",
     "output_type": "stream",
     "text": [
      "  9%|▉         | 9/100 [00:05<00:52,  1.74it/s]"
     ]
    },
    {
     "name": "stdout",
     "output_type": "stream",
     "text": [
      "Moviepy - Done !\n",
      "Moviepy - video ready /home/ndelafuente/Desktop/Learn2Earn_RL-1/LunarLander/Reinforce/Videosv3/rl-video-episode-8.mp4\n"
     ]
    },
    {
     "name": "stderr",
     "output_type": "stream",
     "text": [
      "  9%|▉         | 9/100 [00:06<00:52,  1.74it/s]"
     ]
    },
    {
     "name": "stdout",
     "output_type": "stream",
     "text": [
      "Moviepy - Building video /home/ndelafuente/Desktop/Learn2Earn_RL-1/LunarLander/Reinforce/Videosv3/rl-video-episode-9.mp4.\n",
      "Moviepy - Writing video /home/ndelafuente/Desktop/Learn2Earn_RL-1/LunarLander/Reinforce/Videosv3/rl-video-episode-9.mp4\n",
      "\n"
     ]
    },
    {
     "name": "stderr",
     "output_type": "stream",
     "text": [
      " 10%|█         | 10/100 [00:06<00:54,  1.65it/s]"
     ]
    },
    {
     "name": "stdout",
     "output_type": "stream",
     "text": [
      "Moviepy - Done !\n",
      "Moviepy - video ready /home/ndelafuente/Desktop/Learn2Earn_RL-1/LunarLander/Reinforce/Videosv3/rl-video-episode-9.mp4\n"
     ]
    },
    {
     "name": "stderr",
     "output_type": "stream",
     "text": [
      " 10%|█         | 10/100 [00:06<00:54,  1.65it/s]"
     ]
    },
    {
     "name": "stdout",
     "output_type": "stream",
     "text": [
      "Moviepy - Building video /home/ndelafuente/Desktop/Learn2Earn_RL-1/LunarLander/Reinforce/Videosv3/rl-video-episode-10.mp4.\n",
      "Moviepy - Writing video /home/ndelafuente/Desktop/Learn2Earn_RL-1/LunarLander/Reinforce/Videosv3/rl-video-episode-10.mp4\n",
      "\n"
     ]
    },
    {
     "name": "stderr",
     "output_type": "stream",
     "text": [
      " 11%|█         | 11/100 [00:06<00:45,  1.98it/s]"
     ]
    },
    {
     "name": "stdout",
     "output_type": "stream",
     "text": [
      "Moviepy - Done !\n",
      "Moviepy - video ready /home/ndelafuente/Desktop/Learn2Earn_RL-1/LunarLander/Reinforce/Videosv3/rl-video-episode-10.mp4\n"
     ]
    },
    {
     "name": "stderr",
     "output_type": "stream",
     "text": [
      " 11%|█         | 11/100 [00:07<00:45,  1.98it/s]"
     ]
    },
    {
     "name": "stdout",
     "output_type": "stream",
     "text": [
      "Moviepy - Building video /home/ndelafuente/Desktop/Learn2Earn_RL-1/LunarLander/Reinforce/Videosv3/rl-video-episode-11.mp4.\n",
      "Moviepy - Writing video /home/ndelafuente/Desktop/Learn2Earn_RL-1/LunarLander/Reinforce/Videosv3/rl-video-episode-11.mp4\n",
      "\n"
     ]
    },
    {
     "name": "stderr",
     "output_type": "stream",
     "text": [
      " 12%|█▏        | 12/100 [00:07<00:46,  1.89it/s]"
     ]
    },
    {
     "name": "stdout",
     "output_type": "stream",
     "text": [
      "Moviepy - Done !\n",
      "Moviepy - video ready /home/ndelafuente/Desktop/Learn2Earn_RL-1/LunarLander/Reinforce/Videosv3/rl-video-episode-11.mp4\n"
     ]
    },
    {
     "name": "stderr",
     "output_type": "stream",
     "text": [
      " 12%|█▏        | 12/100 [00:08<00:46,  1.89it/s]"
     ]
    },
    {
     "name": "stdout",
     "output_type": "stream",
     "text": [
      "Moviepy - Building video /home/ndelafuente/Desktop/Learn2Earn_RL-1/LunarLander/Reinforce/Videosv3/rl-video-episode-12.mp4.\n",
      "Moviepy - Writing video /home/ndelafuente/Desktop/Learn2Earn_RL-1/LunarLander/Reinforce/Videosv3/rl-video-episode-12.mp4\n",
      "\n"
     ]
    },
    {
     "name": "stderr",
     "output_type": "stream",
     "text": [
      " 13%|█▎        | 13/100 [00:09<01:34,  1.08s/it]"
     ]
    },
    {
     "name": "stdout",
     "output_type": "stream",
     "text": [
      "Moviepy - Done !\n",
      "Moviepy - video ready /home/ndelafuente/Desktop/Learn2Earn_RL-1/LunarLander/Reinforce/Videosv3/rl-video-episode-12.mp4\n"
     ]
    },
    {
     "name": "stderr",
     "output_type": "stream",
     "text": [
      " 13%|█▎        | 13/100 [00:11<01:34,  1.08s/it]"
     ]
    },
    {
     "name": "stdout",
     "output_type": "stream",
     "text": [
      "Moviepy - Building video /home/ndelafuente/Desktop/Learn2Earn_RL-1/LunarLander/Reinforce/Videosv3/rl-video-episode-13.mp4.\n",
      "Moviepy - Writing video /home/ndelafuente/Desktop/Learn2Earn_RL-1/LunarLander/Reinforce/Videosv3/rl-video-episode-13.mp4\n",
      "\n"
     ]
    },
    {
     "name": "stderr",
     "output_type": "stream",
     "text": [
      " 14%|█▍        | 14/100 [00:12<02:06,  1.47s/it]"
     ]
    },
    {
     "name": "stdout",
     "output_type": "stream",
     "text": [
      "Moviepy - Done !\n",
      "Moviepy - video ready /home/ndelafuente/Desktop/Learn2Earn_RL-1/LunarLander/Reinforce/Videosv3/rl-video-episode-13.mp4\n"
     ]
    },
    {
     "name": "stderr",
     "output_type": "stream",
     "text": [
      " 14%|█▍        | 14/100 [00:12<02:06,  1.47s/it]"
     ]
    },
    {
     "name": "stdout",
     "output_type": "stream",
     "text": [
      "Moviepy - Building video /home/ndelafuente/Desktop/Learn2Earn_RL-1/LunarLander/Reinforce/Videosv3/rl-video-episode-14.mp4.\n",
      "Moviepy - Writing video /home/ndelafuente/Desktop/Learn2Earn_RL-1/LunarLander/Reinforce/Videosv3/rl-video-episode-14.mp4\n",
      "\n"
     ]
    },
    {
     "name": "stderr",
     "output_type": "stream",
     "text": [
      " 15%|█▌        | 15/100 [00:12<01:45,  1.24s/it]"
     ]
    },
    {
     "name": "stdout",
     "output_type": "stream",
     "text": [
      "Moviepy - Done !\n",
      "Moviepy - video ready /home/ndelafuente/Desktop/Learn2Earn_RL-1/LunarLander/Reinforce/Videosv3/rl-video-episode-14.mp4\n"
     ]
    },
    {
     "name": "stderr",
     "output_type": "stream",
     "text": [
      " 15%|█▌        | 15/100 [00:13<01:45,  1.24s/it]"
     ]
    },
    {
     "name": "stdout",
     "output_type": "stream",
     "text": [
      "Moviepy - Building video /home/ndelafuente/Desktop/Learn2Earn_RL-1/LunarLander/Reinforce/Videosv3/rl-video-episode-15.mp4.\n",
      "Moviepy - Writing video /home/ndelafuente/Desktop/Learn2Earn_RL-1/LunarLander/Reinforce/Videosv3/rl-video-episode-15.mp4\n",
      "\n"
     ]
    },
    {
     "name": "stderr",
     "output_type": "stream",
     "text": [
      " 16%|█▌        | 16/100 [00:13<01:31,  1.09s/it]"
     ]
    },
    {
     "name": "stdout",
     "output_type": "stream",
     "text": [
      "Moviepy - Done !\n",
      "Moviepy - video ready /home/ndelafuente/Desktop/Learn2Earn_RL-1/LunarLander/Reinforce/Videosv3/rl-video-episode-15.mp4\n"
     ]
    },
    {
     "name": "stderr",
     "output_type": "stream",
     "text": [
      " 16%|█▌        | 16/100 [00:14<01:31,  1.09s/it]"
     ]
    },
    {
     "name": "stdout",
     "output_type": "stream",
     "text": [
      "Moviepy - Building video /home/ndelafuente/Desktop/Learn2Earn_RL-1/LunarLander/Reinforce/Videosv3/rl-video-episode-16.mp4.\n",
      "Moviepy - Writing video /home/ndelafuente/Desktop/Learn2Earn_RL-1/LunarLander/Reinforce/Videosv3/rl-video-episode-16.mp4\n",
      "\n"
     ]
    },
    {
     "name": "stderr",
     "output_type": "stream",
     "text": [
      " 17%|█▋        | 17/100 [00:15<01:42,  1.23s/it]"
     ]
    },
    {
     "name": "stdout",
     "output_type": "stream",
     "text": [
      "Moviepy - Done !\n",
      "Moviepy - video ready /home/ndelafuente/Desktop/Learn2Earn_RL-1/LunarLander/Reinforce/Videosv3/rl-video-episode-16.mp4\n"
     ]
    },
    {
     "name": "stderr",
     "output_type": "stream",
     "text": [
      " 17%|█▋        | 17/100 [00:16<01:42,  1.23s/it]"
     ]
    },
    {
     "name": "stdout",
     "output_type": "stream",
     "text": [
      "Moviepy - Building video /home/ndelafuente/Desktop/Learn2Earn_RL-1/LunarLander/Reinforce/Videosv3/rl-video-episode-17.mp4.\n",
      "Moviepy - Writing video /home/ndelafuente/Desktop/Learn2Earn_RL-1/LunarLander/Reinforce/Videosv3/rl-video-episode-17.mp4\n",
      "\n"
     ]
    },
    {
     "name": "stderr",
     "output_type": "stream",
     "text": [
      " 18%|█▊        | 18/100 [00:17<02:08,  1.56s/it]"
     ]
    },
    {
     "name": "stdout",
     "output_type": "stream",
     "text": [
      "Moviepy - Done !\n",
      "Moviepy - video ready /home/ndelafuente/Desktop/Learn2Earn_RL-1/LunarLander/Reinforce/Videosv3/rl-video-episode-17.mp4\n"
     ]
    },
    {
     "name": "stderr",
     "output_type": "stream",
     "text": [
      " 18%|█▊        | 18/100 [00:17<02:08,  1.56s/it]"
     ]
    },
    {
     "name": "stdout",
     "output_type": "stream",
     "text": [
      "Moviepy - Building video /home/ndelafuente/Desktop/Learn2Earn_RL-1/LunarLander/Reinforce/Videosv3/rl-video-episode-18.mp4.\n",
      "Moviepy - Writing video /home/ndelafuente/Desktop/Learn2Earn_RL-1/LunarLander/Reinforce/Videosv3/rl-video-episode-18.mp4\n",
      "\n"
     ]
    },
    {
     "name": "stderr",
     "output_type": "stream",
     "text": [
      " 19%|█▉        | 19/100 [00:17<01:34,  1.16s/it]"
     ]
    },
    {
     "name": "stdout",
     "output_type": "stream",
     "text": [
      "Moviepy - Done !\n",
      "Moviepy - video ready /home/ndelafuente/Desktop/Learn2Earn_RL-1/LunarLander/Reinforce/Videosv3/rl-video-episode-18.mp4\n"
     ]
    },
    {
     "name": "stderr",
     "output_type": "stream",
     "text": [
      " 19%|█▉        | 19/100 [00:18<01:34,  1.16s/it]"
     ]
    },
    {
     "name": "stdout",
     "output_type": "stream",
     "text": [
      "Moviepy - Building video /home/ndelafuente/Desktop/Learn2Earn_RL-1/LunarLander/Reinforce/Videosv3/rl-video-episode-19.mp4.\n",
      "Moviepy - Writing video /home/ndelafuente/Desktop/Learn2Earn_RL-1/LunarLander/Reinforce/Videosv3/rl-video-episode-19.mp4\n",
      "\n"
     ]
    },
    {
     "name": "stderr",
     "output_type": "stream",
     "text": [
      " 20%|██        | 20/100 [00:18<01:25,  1.07s/it]"
     ]
    },
    {
     "name": "stdout",
     "output_type": "stream",
     "text": [
      "Moviepy - Done !\n",
      "Moviepy - video ready /home/ndelafuente/Desktop/Learn2Earn_RL-1/LunarLander/Reinforce/Videosv3/rl-video-episode-19.mp4\n"
     ]
    },
    {
     "name": "stderr",
     "output_type": "stream",
     "text": [
      " 20%|██        | 20/100 [00:19<01:25,  1.07s/it]"
     ]
    },
    {
     "name": "stdout",
     "output_type": "stream",
     "text": [
      "Moviepy - Building video /home/ndelafuente/Desktop/Learn2Earn_RL-1/LunarLander/Reinforce/Videosv3/rl-video-episode-20.mp4.\n",
      "Moviepy - Writing video /home/ndelafuente/Desktop/Learn2Earn_RL-1/LunarLander/Reinforce/Videosv3/rl-video-episode-20.mp4\n",
      "\n"
     ]
    },
    {
     "name": "stderr",
     "output_type": "stream",
     "text": [
      " 21%|██        | 21/100 [00:20<01:54,  1.45s/it]"
     ]
    },
    {
     "name": "stdout",
     "output_type": "stream",
     "text": [
      "Moviepy - Done !\n",
      "Moviepy - video ready /home/ndelafuente/Desktop/Learn2Earn_RL-1/LunarLander/Reinforce/Videosv3/rl-video-episode-20.mp4\n"
     ]
    },
    {
     "name": "stderr",
     "output_type": "stream",
     "text": [
      " 21%|██        | 21/100 [00:21<01:54,  1.45s/it]"
     ]
    },
    {
     "name": "stdout",
     "output_type": "stream",
     "text": [
      "Moviepy - Building video /home/ndelafuente/Desktop/Learn2Earn_RL-1/LunarLander/Reinforce/Videosv3/rl-video-episode-21.mp4.\n",
      "Moviepy - Writing video /home/ndelafuente/Desktop/Learn2Earn_RL-1/LunarLander/Reinforce/Videosv3/rl-video-episode-21.mp4\n",
      "\n"
     ]
    },
    {
     "name": "stderr",
     "output_type": "stream",
     "text": [
      " 21%|██        | 21/100 [00:21<01:54,  1.45s/it]"
     ]
    },
    {
     "name": "stdout",
     "output_type": "stream",
     "text": [
      "Moviepy - Done !\n",
      "Moviepy - video ready /home/ndelafuente/Desktop/Learn2Earn_RL-1/LunarLander/Reinforce/Videosv3/rl-video-episode-21.mp4\n"
     ]
    },
    {
     "name": "stderr",
     "output_type": "stream",
     "text": [
      " 22%|██▏       | 22/100 [00:22<01:30,  1.17s/it]"
     ]
    },
    {
     "name": "stdout",
     "output_type": "stream",
     "text": [
      "Moviepy - Building video /home/ndelafuente/Desktop/Learn2Earn_RL-1/LunarLander/Reinforce/Videosv3/rl-video-episode-22.mp4.\n",
      "Moviepy - Writing video /home/ndelafuente/Desktop/Learn2Earn_RL-1/LunarLander/Reinforce/Videosv3/rl-video-episode-22.mp4\n",
      "\n"
     ]
    },
    {
     "name": "stderr",
     "output_type": "stream",
     "text": [
      " 23%|██▎       | 23/100 [00:23<01:54,  1.49s/it]"
     ]
    },
    {
     "name": "stdout",
     "output_type": "stream",
     "text": [
      "Moviepy - Done !\n",
      "Moviepy - video ready /home/ndelafuente/Desktop/Learn2Earn_RL-1/LunarLander/Reinforce/Videosv3/rl-video-episode-22.mp4\n"
     ]
    },
    {
     "name": "stderr",
     "output_type": "stream",
     "text": [
      " 23%|██▎       | 23/100 [00:24<01:54,  1.49s/it]"
     ]
    },
    {
     "name": "stdout",
     "output_type": "stream",
     "text": [
      "Moviepy - Building video /home/ndelafuente/Desktop/Learn2Earn_RL-1/LunarLander/Reinforce/Videosv3/rl-video-episode-23.mp4.\n",
      "Moviepy - Writing video /home/ndelafuente/Desktop/Learn2Earn_RL-1/LunarLander/Reinforce/Videosv3/rl-video-episode-23.mp4\n",
      "\n"
     ]
    },
    {
     "name": "stderr",
     "output_type": "stream",
     "text": [
      " 24%|██▍       | 24/100 [00:25<02:11,  1.73s/it]"
     ]
    },
    {
     "name": "stdout",
     "output_type": "stream",
     "text": [
      "Moviepy - Done !\n",
      "Moviepy - video ready /home/ndelafuente/Desktop/Learn2Earn_RL-1/LunarLander/Reinforce/Videosv3/rl-video-episode-23.mp4\n"
     ]
    },
    {
     "name": "stderr",
     "output_type": "stream",
     "text": [
      " 24%|██▍       | 24/100 [00:27<02:11,  1.73s/it]"
     ]
    },
    {
     "name": "stdout",
     "output_type": "stream",
     "text": [
      "Moviepy - Building video /home/ndelafuente/Desktop/Learn2Earn_RL-1/LunarLander/Reinforce/Videosv3/rl-video-episode-24.mp4.\n",
      "Moviepy - Writing video /home/ndelafuente/Desktop/Learn2Earn_RL-1/LunarLander/Reinforce/Videosv3/rl-video-episode-24.mp4\n",
      "\n"
     ]
    },
    {
     "name": "stderr",
     "output_type": "stream",
     "text": [
      " 25%|██▌       | 25/100 [00:28<02:24,  1.92s/it]"
     ]
    },
    {
     "name": "stdout",
     "output_type": "stream",
     "text": [
      "Moviepy - Done !\n",
      "Moviepy - video ready /home/ndelafuente/Desktop/Learn2Earn_RL-1/LunarLander/Reinforce/Videosv3/rl-video-episode-24.mp4\n"
     ]
    },
    {
     "name": "stderr",
     "output_type": "stream",
     "text": [
      " 25%|██▌       | 25/100 [00:28<02:24,  1.92s/it]"
     ]
    },
    {
     "name": "stdout",
     "output_type": "stream",
     "text": [
      "Moviepy - Building video /home/ndelafuente/Desktop/Learn2Earn_RL-1/LunarLander/Reinforce/Videosv3/rl-video-episode-25.mp4.\n",
      "Moviepy - Writing video /home/ndelafuente/Desktop/Learn2Earn_RL-1/LunarLander/Reinforce/Videosv3/rl-video-episode-25.mp4\n",
      "\n"
     ]
    },
    {
     "name": "stderr",
     "output_type": "stream",
     "text": [
      " 25%|██▌       | 25/100 [00:28<02:24,  1.92s/it]"
     ]
    },
    {
     "name": "stdout",
     "output_type": "stream",
     "text": [
      "Moviepy - Done !\n",
      "Moviepy - video ready /home/ndelafuente/Desktop/Learn2Earn_RL-1/LunarLander/Reinforce/Videosv3/rl-video-episode-25.mp4\n"
     ]
    },
    {
     "name": "stderr",
     "output_type": "stream",
     "text": [
      " 26%|██▌       | 26/100 [00:29<01:51,  1.51s/it]"
     ]
    },
    {
     "name": "stdout",
     "output_type": "stream",
     "text": [
      "Moviepy - Building video /home/ndelafuente/Desktop/Learn2Earn_RL-1/LunarLander/Reinforce/Videosv3/rl-video-episode-26.mp4.\n",
      "Moviepy - Writing video /home/ndelafuente/Desktop/Learn2Earn_RL-1/LunarLander/Reinforce/Videosv3/rl-video-episode-26.mp4\n",
      "\n"
     ]
    },
    {
     "name": "stderr",
     "output_type": "stream",
     "text": [
      " 27%|██▋       | 27/100 [00:29<01:33,  1.28s/it]"
     ]
    },
    {
     "name": "stdout",
     "output_type": "stream",
     "text": [
      "Moviepy - Done !\n",
      "Moviepy - video ready /home/ndelafuente/Desktop/Learn2Earn_RL-1/LunarLander/Reinforce/Videosv3/rl-video-episode-26.mp4\n"
     ]
    },
    {
     "name": "stderr",
     "output_type": "stream",
     "text": [
      " 27%|██▋       | 27/100 [00:29<01:33,  1.28s/it]"
     ]
    },
    {
     "name": "stdout",
     "output_type": "stream",
     "text": [
      "Moviepy - Building video /home/ndelafuente/Desktop/Learn2Earn_RL-1/LunarLander/Reinforce/Videosv3/rl-video-episode-27.mp4.\n",
      "Moviepy - Writing video /home/ndelafuente/Desktop/Learn2Earn_RL-1/LunarLander/Reinforce/Videosv3/rl-video-episode-27.mp4\n",
      "\n"
     ]
    },
    {
     "name": "stderr",
     "output_type": "stream",
     "text": [
      " 28%|██▊       | 28/100 [00:29<01:10,  1.02it/s]"
     ]
    },
    {
     "name": "stdout",
     "output_type": "stream",
     "text": [
      "Moviepy - Done !\n",
      "Moviepy - video ready /home/ndelafuente/Desktop/Learn2Earn_RL-1/LunarLander/Reinforce/Videosv3/rl-video-episode-27.mp4\n"
     ]
    },
    {
     "name": "stderr",
     "output_type": "stream",
     "text": [
      " 28%|██▊       | 28/100 [00:30<01:10,  1.02it/s]"
     ]
    },
    {
     "name": "stdout",
     "output_type": "stream",
     "text": [
      "Moviepy - Building video /home/ndelafuente/Desktop/Learn2Earn_RL-1/LunarLander/Reinforce/Videosv3/rl-video-episode-28.mp4.\n",
      "Moviepy - Writing video /home/ndelafuente/Desktop/Learn2Earn_RL-1/LunarLander/Reinforce/Videosv3/rl-video-episode-28.mp4\n",
      "\n"
     ]
    },
    {
     "name": "stderr",
     "output_type": "stream",
     "text": [
      " 29%|██▉       | 29/100 [00:30<00:57,  1.23it/s]"
     ]
    },
    {
     "name": "stdout",
     "output_type": "stream",
     "text": [
      "Moviepy - Done !\n",
      "Moviepy - video ready /home/ndelafuente/Desktop/Learn2Earn_RL-1/LunarLander/Reinforce/Videosv3/rl-video-episode-28.mp4\n"
     ]
    },
    {
     "name": "stderr",
     "output_type": "stream",
     "text": [
      " 29%|██▉       | 29/100 [00:31<00:57,  1.23it/s]"
     ]
    },
    {
     "name": "stdout",
     "output_type": "stream",
     "text": [
      "Moviepy - Building video /home/ndelafuente/Desktop/Learn2Earn_RL-1/LunarLander/Reinforce/Videosv3/rl-video-episode-29.mp4.\n",
      "Moviepy - Writing video /home/ndelafuente/Desktop/Learn2Earn_RL-1/LunarLander/Reinforce/Videosv3/rl-video-episode-29.mp4\n",
      "\n"
     ]
    },
    {
     "name": "stderr",
     "output_type": "stream",
     "text": [
      " 30%|███       | 30/100 [00:32<01:28,  1.27s/it]"
     ]
    },
    {
     "name": "stdout",
     "output_type": "stream",
     "text": [
      "Moviepy - Done !\n",
      "Moviepy - video ready /home/ndelafuente/Desktop/Learn2Earn_RL-1/LunarLander/Reinforce/Videosv3/rl-video-episode-29.mp4\n"
     ]
    },
    {
     "name": "stderr",
     "output_type": "stream",
     "text": [
      " 30%|███       | 30/100 [00:33<01:28,  1.27s/it]"
     ]
    },
    {
     "name": "stdout",
     "output_type": "stream",
     "text": [
      "Moviepy - Building video /home/ndelafuente/Desktop/Learn2Earn_RL-1/LunarLander/Reinforce/Videosv3/rl-video-episode-30.mp4.\n",
      "Moviepy - Writing video /home/ndelafuente/Desktop/Learn2Earn_RL-1/LunarLander/Reinforce/Videosv3/rl-video-episode-30.mp4\n",
      "\n"
     ]
    },
    {
     "name": "stderr",
     "output_type": "stream",
     "text": [
      " 31%|███       | 31/100 [00:34<01:50,  1.60s/it]"
     ]
    },
    {
     "name": "stdout",
     "output_type": "stream",
     "text": [
      "Moviepy - Done !\n",
      "Moviepy - video ready /home/ndelafuente/Desktop/Learn2Earn_RL-1/LunarLander/Reinforce/Videosv3/rl-video-episode-30.mp4\n"
     ]
    },
    {
     "name": "stderr",
     "output_type": "stream",
     "text": [
      " 31%|███       | 31/100 [00:36<01:50,  1.60s/it]"
     ]
    },
    {
     "name": "stdout",
     "output_type": "stream",
     "text": [
      "Moviepy - Building video /home/ndelafuente/Desktop/Learn2Earn_RL-1/LunarLander/Reinforce/Videosv3/rl-video-episode-31.mp4.\n",
      "Moviepy - Writing video /home/ndelafuente/Desktop/Learn2Earn_RL-1/LunarLander/Reinforce/Videosv3/rl-video-episode-31.mp4\n",
      "\n"
     ]
    },
    {
     "name": "stderr",
     "output_type": "stream",
     "text": [
      " 32%|███▏      | 32/100 [00:37<02:02,  1.80s/it]"
     ]
    },
    {
     "name": "stdout",
     "output_type": "stream",
     "text": [
      "Moviepy - Done !\n",
      "Moviepy - video ready /home/ndelafuente/Desktop/Learn2Earn_RL-1/LunarLander/Reinforce/Videosv3/rl-video-episode-31.mp4\n"
     ]
    },
    {
     "name": "stderr",
     "output_type": "stream",
     "text": [
      " 32%|███▏      | 32/100 [00:38<02:02,  1.80s/it]"
     ]
    },
    {
     "name": "stdout",
     "output_type": "stream",
     "text": [
      "Moviepy - Building video /home/ndelafuente/Desktop/Learn2Earn_RL-1/LunarLander/Reinforce/Videosv3/rl-video-episode-32.mp4.\n",
      "Moviepy - Writing video /home/ndelafuente/Desktop/Learn2Earn_RL-1/LunarLander/Reinforce/Videosv3/rl-video-episode-32.mp4\n",
      "\n"
     ]
    },
    {
     "name": "stderr",
     "output_type": "stream",
     "text": [
      " 33%|███▎      | 33/100 [00:39<02:10,  1.95s/it]"
     ]
    },
    {
     "name": "stdout",
     "output_type": "stream",
     "text": [
      "Moviepy - Done !\n",
      "Moviepy - video ready /home/ndelafuente/Desktop/Learn2Earn_RL-1/LunarLander/Reinforce/Videosv3/rl-video-episode-32.mp4\n"
     ]
    },
    {
     "name": "stderr",
     "output_type": "stream",
     "text": [
      " 33%|███▎      | 33/100 [00:39<02:10,  1.95s/it]"
     ]
    },
    {
     "name": "stdout",
     "output_type": "stream",
     "text": [
      "Moviepy - Building video /home/ndelafuente/Desktop/Learn2Earn_RL-1/LunarLander/Reinforce/Videosv3/rl-video-episode-33.mp4.\n",
      "Moviepy - Writing video /home/ndelafuente/Desktop/Learn2Earn_RL-1/LunarLander/Reinforce/Videosv3/rl-video-episode-33.mp4\n",
      "\n"
     ]
    },
    {
     "name": "stderr",
     "output_type": "stream",
     "text": [
      " 34%|███▍      | 34/100 [00:39<01:34,  1.43s/it]"
     ]
    },
    {
     "name": "stdout",
     "output_type": "stream",
     "text": [
      "Moviepy - Done !\n",
      "Moviepy - video ready /home/ndelafuente/Desktop/Learn2Earn_RL-1/LunarLander/Reinforce/Videosv3/rl-video-episode-33.mp4\n"
     ]
    },
    {
     "name": "stderr",
     "output_type": "stream",
     "text": [
      " 34%|███▍      | 34/100 [00:40<01:34,  1.43s/it]"
     ]
    },
    {
     "name": "stdout",
     "output_type": "stream",
     "text": [
      "Moviepy - Building video /home/ndelafuente/Desktop/Learn2Earn_RL-1/LunarLander/Reinforce/Videosv3/rl-video-episode-34.mp4.\n",
      "Moviepy - Writing video /home/ndelafuente/Desktop/Learn2Earn_RL-1/LunarLander/Reinforce/Videosv3/rl-video-episode-34.mp4\n",
      "\n"
     ]
    },
    {
     "name": "stderr",
     "output_type": "stream",
     "text": [
      " 35%|███▌      | 35/100 [00:40<01:28,  1.35s/it]"
     ]
    },
    {
     "name": "stdout",
     "output_type": "stream",
     "text": [
      "Moviepy - Done !\n",
      "Moviepy - video ready /home/ndelafuente/Desktop/Learn2Earn_RL-1/LunarLander/Reinforce/Videosv3/rl-video-episode-34.mp4\n"
     ]
    },
    {
     "name": "stderr",
     "output_type": "stream",
     "text": [
      " 35%|███▌      | 35/100 [00:42<01:28,  1.35s/it]"
     ]
    },
    {
     "name": "stdout",
     "output_type": "stream",
     "text": [
      "Moviepy - Building video /home/ndelafuente/Desktop/Learn2Earn_RL-1/LunarLander/Reinforce/Videosv3/rl-video-episode-35.mp4.\n",
      "Moviepy - Writing video /home/ndelafuente/Desktop/Learn2Earn_RL-1/LunarLander/Reinforce/Videosv3/rl-video-episode-35.mp4\n",
      "\n"
     ]
    },
    {
     "name": "stderr",
     "output_type": "stream",
     "text": [
      " 36%|███▌      | 36/100 [00:43<01:46,  1.67s/it]"
     ]
    },
    {
     "name": "stdout",
     "output_type": "stream",
     "text": [
      "Moviepy - Done !\n",
      "Moviepy - video ready /home/ndelafuente/Desktop/Learn2Earn_RL-1/LunarLander/Reinforce/Videosv3/rl-video-episode-35.mp4\n"
     ]
    },
    {
     "name": "stderr",
     "output_type": "stream",
     "text": [
      " 36%|███▌      | 36/100 [00:44<01:46,  1.67s/it]"
     ]
    },
    {
     "name": "stdout",
     "output_type": "stream",
     "text": [
      "Moviepy - Building video /home/ndelafuente/Desktop/Learn2Earn_RL-1/LunarLander/Reinforce/Videosv3/rl-video-episode-36.mp4.\n",
      "Moviepy - Writing video /home/ndelafuente/Desktop/Learn2Earn_RL-1/LunarLander/Reinforce/Videosv3/rl-video-episode-36.mp4\n",
      "\n"
     ]
    },
    {
     "name": "stderr",
     "output_type": "stream",
     "text": [
      " 37%|███▋      | 37/100 [00:45<01:49,  1.74s/it]"
     ]
    },
    {
     "name": "stdout",
     "output_type": "stream",
     "text": [
      "Moviepy - Done !\n",
      "Moviepy - video ready /home/ndelafuente/Desktop/Learn2Earn_RL-1/LunarLander/Reinforce/Videosv3/rl-video-episode-36.mp4\n"
     ]
    },
    {
     "name": "stderr",
     "output_type": "stream",
     "text": [
      " 37%|███▋      | 37/100 [00:45<01:49,  1.74s/it]"
     ]
    },
    {
     "name": "stdout",
     "output_type": "stream",
     "text": [
      "Moviepy - Building video /home/ndelafuente/Desktop/Learn2Earn_RL-1/LunarLander/Reinforce/Videosv3/rl-video-episode-37.mp4.\n",
      "Moviepy - Writing video /home/ndelafuente/Desktop/Learn2Earn_RL-1/LunarLander/Reinforce/Videosv3/rl-video-episode-37.mp4\n",
      "\n"
     ]
    },
    {
     "name": "stderr",
     "output_type": "stream",
     "text": [
      " 38%|███▊      | 38/100 [00:45<01:28,  1.42s/it]"
     ]
    },
    {
     "name": "stdout",
     "output_type": "stream",
     "text": [
      "Moviepy - Done !\n",
      "Moviepy - video ready /home/ndelafuente/Desktop/Learn2Earn_RL-1/LunarLander/Reinforce/Videosv3/rl-video-episode-37.mp4\n"
     ]
    },
    {
     "name": "stderr",
     "output_type": "stream",
     "text": [
      " 38%|███▊      | 38/100 [00:47<01:28,  1.42s/it]"
     ]
    },
    {
     "name": "stdout",
     "output_type": "stream",
     "text": [
      "Moviepy - Building video /home/ndelafuente/Desktop/Learn2Earn_RL-1/LunarLander/Reinforce/Videosv3/rl-video-episode-38.mp4.\n",
      "Moviepy - Writing video /home/ndelafuente/Desktop/Learn2Earn_RL-1/LunarLander/Reinforce/Videosv3/rl-video-episode-38.mp4\n",
      "\n"
     ]
    },
    {
     "name": "stderr",
     "output_type": "stream",
     "text": [
      " 39%|███▉      | 39/100 [00:48<01:41,  1.66s/it]"
     ]
    },
    {
     "name": "stdout",
     "output_type": "stream",
     "text": [
      "Moviepy - Done !\n",
      "Moviepy - video ready /home/ndelafuente/Desktop/Learn2Earn_RL-1/LunarLander/Reinforce/Videosv3/rl-video-episode-38.mp4\n"
     ]
    },
    {
     "name": "stderr",
     "output_type": "stream",
     "text": [
      " 39%|███▉      | 39/100 [00:48<01:41,  1.66s/it]"
     ]
    },
    {
     "name": "stdout",
     "output_type": "stream",
     "text": [
      "Moviepy - Building video /home/ndelafuente/Desktop/Learn2Earn_RL-1/LunarLander/Reinforce/Videosv3/rl-video-episode-39.mp4.\n",
      "Moviepy - Writing video /home/ndelafuente/Desktop/Learn2Earn_RL-1/LunarLander/Reinforce/Videosv3/rl-video-episode-39.mp4\n",
      "\n"
     ]
    },
    {
     "name": "stderr",
     "output_type": "stream",
     "text": [
      " 40%|████      | 40/100 [00:48<01:24,  1.41s/it]"
     ]
    },
    {
     "name": "stdout",
     "output_type": "stream",
     "text": [
      "Moviepy - Done !\n",
      "Moviepy - video ready /home/ndelafuente/Desktop/Learn2Earn_RL-1/LunarLander/Reinforce/Videosv3/rl-video-episode-39.mp4\n"
     ]
    },
    {
     "name": "stderr",
     "output_type": "stream",
     "text": [
      " 40%|████      | 40/100 [00:49<01:24,  1.41s/it]"
     ]
    },
    {
     "name": "stdout",
     "output_type": "stream",
     "text": [
      "Moviepy - Building video /home/ndelafuente/Desktop/Learn2Earn_RL-1/LunarLander/Reinforce/Videosv3/rl-video-episode-40.mp4.\n",
      "Moviepy - Writing video /home/ndelafuente/Desktop/Learn2Earn_RL-1/LunarLander/Reinforce/Videosv3/rl-video-episode-40.mp4\n",
      "\n"
     ]
    },
    {
     "name": "stderr",
     "output_type": "stream",
     "text": [
      " 41%|████      | 41/100 [00:50<01:24,  1.44s/it]"
     ]
    },
    {
     "name": "stdout",
     "output_type": "stream",
     "text": [
      "Moviepy - Done !\n",
      "Moviepy - video ready /home/ndelafuente/Desktop/Learn2Earn_RL-1/LunarLander/Reinforce/Videosv3/rl-video-episode-40.mp4\n"
     ]
    },
    {
     "name": "stderr",
     "output_type": "stream",
     "text": [
      " 41%|████      | 41/100 [00:50<01:24,  1.44s/it]"
     ]
    },
    {
     "name": "stdout",
     "output_type": "stream",
     "text": [
      "Moviepy - Building video /home/ndelafuente/Desktop/Learn2Earn_RL-1/LunarLander/Reinforce/Videosv3/rl-video-episode-41.mp4.\n",
      "Moviepy - Writing video /home/ndelafuente/Desktop/Learn2Earn_RL-1/LunarLander/Reinforce/Videosv3/rl-video-episode-41.mp4\n",
      "\n"
     ]
    },
    {
     "name": "stderr",
     "output_type": "stream",
     "text": [
      " 42%|████▏     | 42/100 [00:51<01:14,  1.29s/it]"
     ]
    },
    {
     "name": "stdout",
     "output_type": "stream",
     "text": [
      "Moviepy - Done !\n",
      "Moviepy - video ready /home/ndelafuente/Desktop/Learn2Earn_RL-1/LunarLander/Reinforce/Videosv3/rl-video-episode-41.mp4\n"
     ]
    },
    {
     "name": "stderr",
     "output_type": "stream",
     "text": [
      " 42%|████▏     | 42/100 [00:52<01:14,  1.29s/it]"
     ]
    },
    {
     "name": "stdout",
     "output_type": "stream",
     "text": [
      "Moviepy - Building video /home/ndelafuente/Desktop/Learn2Earn_RL-1/LunarLander/Reinforce/Videosv3/rl-video-episode-42.mp4.\n",
      "Moviepy - Writing video /home/ndelafuente/Desktop/Learn2Earn_RL-1/LunarLander/Reinforce/Videosv3/rl-video-episode-42.mp4\n",
      "\n"
     ]
    },
    {
     "name": "stderr",
     "output_type": "stream",
     "text": [
      " 43%|████▎     | 43/100 [00:53<01:30,  1.59s/it]"
     ]
    },
    {
     "name": "stdout",
     "output_type": "stream",
     "text": [
      "Moviepy - Done !\n",
      "Moviepy - video ready /home/ndelafuente/Desktop/Learn2Earn_RL-1/LunarLander/Reinforce/Videosv3/rl-video-episode-42.mp4\n"
     ]
    },
    {
     "name": "stderr",
     "output_type": "stream",
     "text": [
      " 43%|████▎     | 43/100 [00:53<01:30,  1.59s/it]"
     ]
    },
    {
     "name": "stdout",
     "output_type": "stream",
     "text": [
      "Moviepy - Building video /home/ndelafuente/Desktop/Learn2Earn_RL-1/LunarLander/Reinforce/Videosv3/rl-video-episode-43.mp4.\n",
      "Moviepy - Writing video /home/ndelafuente/Desktop/Learn2Earn_RL-1/LunarLander/Reinforce/Videosv3/rl-video-episode-43.mp4\n",
      "\n"
     ]
    },
    {
     "name": "stderr",
     "output_type": "stream",
     "text": [
      " 44%|████▍     | 44/100 [00:53<01:06,  1.19s/it]"
     ]
    },
    {
     "name": "stdout",
     "output_type": "stream",
     "text": [
      "Moviepy - Done !\n",
      "Moviepy - video ready /home/ndelafuente/Desktop/Learn2Earn_RL-1/LunarLander/Reinforce/Videosv3/rl-video-episode-43.mp4\n"
     ]
    },
    {
     "name": "stderr",
     "output_type": "stream",
     "text": [
      " 44%|████▍     | 44/100 [00:55<01:06,  1.19s/it]"
     ]
    },
    {
     "name": "stdout",
     "output_type": "stream",
     "text": [
      "Moviepy - Building video /home/ndelafuente/Desktop/Learn2Earn_RL-1/LunarLander/Reinforce/Videosv3/rl-video-episode-44.mp4.\n",
      "Moviepy - Writing video /home/ndelafuente/Desktop/Learn2Earn_RL-1/LunarLander/Reinforce/Videosv3/rl-video-episode-44.mp4\n",
      "\n"
     ]
    },
    {
     "name": "stderr",
     "output_type": "stream",
     "text": [
      " 45%|████▌     | 45/100 [00:56<01:23,  1.52s/it]"
     ]
    },
    {
     "name": "stdout",
     "output_type": "stream",
     "text": [
      "Moviepy - Done !\n",
      "Moviepy - video ready /home/ndelafuente/Desktop/Learn2Earn_RL-1/LunarLander/Reinforce/Videosv3/rl-video-episode-44.mp4\n"
     ]
    },
    {
     "name": "stderr",
     "output_type": "stream",
     "text": [
      " 45%|████▌     | 45/100 [00:56<01:23,  1.52s/it]"
     ]
    },
    {
     "name": "stdout",
     "output_type": "stream",
     "text": [
      "Moviepy - Building video /home/ndelafuente/Desktop/Learn2Earn_RL-1/LunarLander/Reinforce/Videosv3/rl-video-episode-45.mp4.\n",
      "Moviepy - Writing video /home/ndelafuente/Desktop/Learn2Earn_RL-1/LunarLander/Reinforce/Videosv3/rl-video-episode-45.mp4\n",
      "\n"
     ]
    },
    {
     "name": "stderr",
     "output_type": "stream",
     "text": [
      " 46%|████▌     | 46/100 [00:57<01:12,  1.34s/it]"
     ]
    },
    {
     "name": "stdout",
     "output_type": "stream",
     "text": [
      "Moviepy - Done !\n",
      "Moviepy - video ready /home/ndelafuente/Desktop/Learn2Earn_RL-1/LunarLander/Reinforce/Videosv3/rl-video-episode-45.mp4\n"
     ]
    },
    {
     "name": "stderr",
     "output_type": "stream",
     "text": [
      " 46%|████▌     | 46/100 [00:58<01:12,  1.34s/it]"
     ]
    },
    {
     "name": "stdout",
     "output_type": "stream",
     "text": [
      "Moviepy - Building video /home/ndelafuente/Desktop/Learn2Earn_RL-1/LunarLander/Reinforce/Videosv3/rl-video-episode-46.mp4.\n",
      "Moviepy - Writing video /home/ndelafuente/Desktop/Learn2Earn_RL-1/LunarLander/Reinforce/Videosv3/rl-video-episode-46.mp4\n",
      "\n"
     ]
    },
    {
     "name": "stderr",
     "output_type": "stream",
     "text": [
      " 47%|████▋     | 47/100 [00:59<01:26,  1.63s/it]"
     ]
    },
    {
     "name": "stdout",
     "output_type": "stream",
     "text": [
      "Moviepy - Done !\n",
      "Moviepy - video ready /home/ndelafuente/Desktop/Learn2Earn_RL-1/LunarLander/Reinforce/Videosv3/rl-video-episode-46.mp4\n"
     ]
    },
    {
     "name": "stderr",
     "output_type": "stream",
     "text": [
      " 47%|████▋     | 47/100 [01:00<01:26,  1.63s/it]"
     ]
    },
    {
     "name": "stdout",
     "output_type": "stream",
     "text": [
      "Moviepy - Building video /home/ndelafuente/Desktop/Learn2Earn_RL-1/LunarLander/Reinforce/Videosv3/rl-video-episode-47.mp4.\n",
      "Moviepy - Writing video /home/ndelafuente/Desktop/Learn2Earn_RL-1/LunarLander/Reinforce/Videosv3/rl-video-episode-47.mp4\n",
      "\n"
     ]
    },
    {
     "name": "stderr",
     "output_type": "stream",
     "text": [
      " 48%|████▊     | 48/100 [01:00<01:23,  1.60s/it]"
     ]
    },
    {
     "name": "stdout",
     "output_type": "stream",
     "text": [
      "Moviepy - Done !\n",
      "Moviepy - video ready /home/ndelafuente/Desktop/Learn2Earn_RL-1/LunarLander/Reinforce/Videosv3/rl-video-episode-47.mp4\n"
     ]
    },
    {
     "name": "stderr",
     "output_type": "stream",
     "text": [
      " 48%|████▊     | 48/100 [01:01<01:23,  1.60s/it]"
     ]
    },
    {
     "name": "stdout",
     "output_type": "stream",
     "text": [
      "Moviepy - Building video /home/ndelafuente/Desktop/Learn2Earn_RL-1/LunarLander/Reinforce/Videosv3/rl-video-episode-48.mp4.\n",
      "Moviepy - Writing video /home/ndelafuente/Desktop/Learn2Earn_RL-1/LunarLander/Reinforce/Videosv3/rl-video-episode-48.mp4\n",
      "\n"
     ]
    },
    {
     "name": "stderr",
     "output_type": "stream",
     "text": [
      " 49%|████▉     | 49/100 [01:02<01:18,  1.54s/it]"
     ]
    },
    {
     "name": "stdout",
     "output_type": "stream",
     "text": [
      "Moviepy - Done !\n",
      "Moviepy - video ready /home/ndelafuente/Desktop/Learn2Earn_RL-1/LunarLander/Reinforce/Videosv3/rl-video-episode-48.mp4\n"
     ]
    },
    {
     "name": "stderr",
     "output_type": "stream",
     "text": [
      " 49%|████▉     | 49/100 [01:03<01:18,  1.54s/it]"
     ]
    },
    {
     "name": "stdout",
     "output_type": "stream",
     "text": [
      "Moviepy - Building video /home/ndelafuente/Desktop/Learn2Earn_RL-1/LunarLander/Reinforce/Videosv3/rl-video-episode-49.mp4.\n",
      "Moviepy - Writing video /home/ndelafuente/Desktop/Learn2Earn_RL-1/LunarLander/Reinforce/Videosv3/rl-video-episode-49.mp4\n",
      "\n"
     ]
    },
    {
     "name": "stderr",
     "output_type": "stream",
     "text": [
      " 50%|█████     | 50/100 [01:04<01:28,  1.77s/it]"
     ]
    },
    {
     "name": "stdout",
     "output_type": "stream",
     "text": [
      "Moviepy - Done !\n",
      "Moviepy - video ready /home/ndelafuente/Desktop/Learn2Earn_RL-1/LunarLander/Reinforce/Videosv3/rl-video-episode-49.mp4\n"
     ]
    },
    {
     "name": "stderr",
     "output_type": "stream",
     "text": [
      " 50%|█████     | 50/100 [01:05<01:28,  1.77s/it]"
     ]
    },
    {
     "name": "stdout",
     "output_type": "stream",
     "text": [
      "Moviepy - Building video /home/ndelafuente/Desktop/Learn2Earn_RL-1/LunarLander/Reinforce/Videosv3/rl-video-episode-50.mp4.\n",
      "Moviepy - Writing video /home/ndelafuente/Desktop/Learn2Earn_RL-1/LunarLander/Reinforce/Videosv3/rl-video-episode-50.mp4\n",
      "\n"
     ]
    },
    {
     "name": "stderr",
     "output_type": "stream",
     "text": [
      " 51%|█████     | 51/100 [01:06<01:33,  1.91s/it]"
     ]
    },
    {
     "name": "stdout",
     "output_type": "stream",
     "text": [
      "Moviepy - Done !\n",
      "Moviepy - video ready /home/ndelafuente/Desktop/Learn2Earn_RL-1/LunarLander/Reinforce/Videosv3/rl-video-episode-50.mp4\n"
     ]
    },
    {
     "name": "stderr",
     "output_type": "stream",
     "text": [
      " 51%|█████     | 51/100 [01:08<01:33,  1.91s/it]"
     ]
    },
    {
     "name": "stdout",
     "output_type": "stream",
     "text": [
      "Moviepy - Building video /home/ndelafuente/Desktop/Learn2Earn_RL-1/LunarLander/Reinforce/Videosv3/rl-video-episode-51.mp4.\n",
      "Moviepy - Writing video /home/ndelafuente/Desktop/Learn2Earn_RL-1/LunarLander/Reinforce/Videosv3/rl-video-episode-51.mp4\n",
      "\n"
     ]
    },
    {
     "name": "stderr",
     "output_type": "stream",
     "text": [
      " 52%|█████▏    | 52/100 [01:09<01:37,  2.03s/it]"
     ]
    },
    {
     "name": "stdout",
     "output_type": "stream",
     "text": [
      "Moviepy - Done !\n",
      "Moviepy - video ready /home/ndelafuente/Desktop/Learn2Earn_RL-1/LunarLander/Reinforce/Videosv3/rl-video-episode-51.mp4\n"
     ]
    },
    {
     "name": "stderr",
     "output_type": "stream",
     "text": [
      " 52%|█████▏    | 52/100 [01:10<01:37,  2.03s/it]"
     ]
    },
    {
     "name": "stdout",
     "output_type": "stream",
     "text": [
      "Moviepy - Building video /home/ndelafuente/Desktop/Learn2Earn_RL-1/LunarLander/Reinforce/Videosv3/rl-video-episode-52.mp4.\n",
      "Moviepy - Writing video /home/ndelafuente/Desktop/Learn2Earn_RL-1/LunarLander/Reinforce/Videosv3/rl-video-episode-52.mp4\n",
      "\n"
     ]
    },
    {
     "name": "stderr",
     "output_type": "stream",
     "text": [
      " 53%|█████▎    | 53/100 [01:11<01:40,  2.13s/it]"
     ]
    },
    {
     "name": "stdout",
     "output_type": "stream",
     "text": [
      "Moviepy - Done !\n",
      "Moviepy - video ready /home/ndelafuente/Desktop/Learn2Earn_RL-1/LunarLander/Reinforce/Videosv3/rl-video-episode-52.mp4\n"
     ]
    },
    {
     "name": "stderr",
     "output_type": "stream",
     "text": [
      " 53%|█████▎    | 53/100 [01:12<01:40,  2.13s/it]"
     ]
    },
    {
     "name": "stdout",
     "output_type": "stream",
     "text": [
      "Moviepy - Building video /home/ndelafuente/Desktop/Learn2Earn_RL-1/LunarLander/Reinforce/Videosv3/rl-video-episode-53.mp4.\n",
      "Moviepy - Writing video /home/ndelafuente/Desktop/Learn2Earn_RL-1/LunarLander/Reinforce/Videosv3/rl-video-episode-53.mp4\n",
      "\n"
     ]
    },
    {
     "name": "stderr",
     "output_type": "stream",
     "text": [
      " 54%|█████▍    | 54/100 [01:12<01:22,  1.80s/it]"
     ]
    },
    {
     "name": "stdout",
     "output_type": "stream",
     "text": [
      "Moviepy - Done !\n",
      "Moviepy - video ready /home/ndelafuente/Desktop/Learn2Earn_RL-1/LunarLander/Reinforce/Videosv3/rl-video-episode-53.mp4\n"
     ]
    },
    {
     "name": "stderr",
     "output_type": "stream",
     "text": [
      " 54%|█████▍    | 54/100 [01:13<01:22,  1.80s/it]"
     ]
    },
    {
     "name": "stdout",
     "output_type": "stream",
     "text": [
      "Moviepy - Building video /home/ndelafuente/Desktop/Learn2Earn_RL-1/LunarLander/Reinforce/Videosv3/rl-video-episode-54.mp4.\n",
      "Moviepy - Writing video /home/ndelafuente/Desktop/Learn2Earn_RL-1/LunarLander/Reinforce/Videosv3/rl-video-episode-54.mp4\n",
      "\n"
     ]
    },
    {
     "name": "stderr",
     "output_type": "stream",
     "text": [
      " 55%|█████▌    | 55/100 [01:14<01:26,  1.93s/it]"
     ]
    },
    {
     "name": "stdout",
     "output_type": "stream",
     "text": [
      "Moviepy - Done !\n",
      "Moviepy - video ready /home/ndelafuente/Desktop/Learn2Earn_RL-1/LunarLander/Reinforce/Videosv3/rl-video-episode-54.mp4\n"
     ]
    },
    {
     "name": "stderr",
     "output_type": "stream",
     "text": [
      " 55%|█████▌    | 55/100 [01:16<01:26,  1.93s/it]"
     ]
    },
    {
     "name": "stdout",
     "output_type": "stream",
     "text": [
      "Moviepy - Building video /home/ndelafuente/Desktop/Learn2Earn_RL-1/LunarLander/Reinforce/Videosv3/rl-video-episode-55.mp4.\n",
      "Moviepy - Writing video /home/ndelafuente/Desktop/Learn2Earn_RL-1/LunarLander/Reinforce/Videosv3/rl-video-episode-55.mp4\n",
      "\n"
     ]
    },
    {
     "name": "stderr",
     "output_type": "stream",
     "text": [
      " 56%|█████▌    | 56/100 [01:17<01:29,  2.03s/it]"
     ]
    },
    {
     "name": "stdout",
     "output_type": "stream",
     "text": [
      "Moviepy - Done !\n",
      "Moviepy - video ready /home/ndelafuente/Desktop/Learn2Earn_RL-1/LunarLander/Reinforce/Videosv3/rl-video-episode-55.mp4\n"
     ]
    },
    {
     "name": "stderr",
     "output_type": "stream",
     "text": [
      " 56%|█████▌    | 56/100 [01:18<01:29,  2.03s/it]"
     ]
    },
    {
     "name": "stdout",
     "output_type": "stream",
     "text": [
      "Moviepy - Building video /home/ndelafuente/Desktop/Learn2Earn_RL-1/LunarLander/Reinforce/Videosv3/rl-video-episode-56.mp4.\n",
      "Moviepy - Writing video /home/ndelafuente/Desktop/Learn2Earn_RL-1/LunarLander/Reinforce/Videosv3/rl-video-episode-56.mp4\n",
      "\n"
     ]
    },
    {
     "name": "stderr",
     "output_type": "stream",
     "text": [
      " 57%|█████▋    | 57/100 [01:19<01:31,  2.13s/it]"
     ]
    },
    {
     "name": "stdout",
     "output_type": "stream",
     "text": [
      "Moviepy - Done !\n",
      "Moviepy - video ready /home/ndelafuente/Desktop/Learn2Earn_RL-1/LunarLander/Reinforce/Videosv3/rl-video-episode-56.mp4\n"
     ]
    },
    {
     "name": "stderr",
     "output_type": "stream",
     "text": [
      " 57%|█████▋    | 57/100 [01:20<01:31,  2.13s/it]"
     ]
    },
    {
     "name": "stdout",
     "output_type": "stream",
     "text": [
      "Moviepy - Building video /home/ndelafuente/Desktop/Learn2Earn_RL-1/LunarLander/Reinforce/Videosv3/rl-video-episode-57.mp4.\n",
      "Moviepy - Writing video /home/ndelafuente/Desktop/Learn2Earn_RL-1/LunarLander/Reinforce/Videosv3/rl-video-episode-57.mp4\n",
      "\n"
     ]
    },
    {
     "name": "stderr",
     "output_type": "stream",
     "text": [
      " 58%|█████▊    | 58/100 [01:21<01:33,  2.24s/it]"
     ]
    },
    {
     "name": "stdout",
     "output_type": "stream",
     "text": [
      "Moviepy - Done !\n",
      "Moviepy - video ready /home/ndelafuente/Desktop/Learn2Earn_RL-1/LunarLander/Reinforce/Videosv3/rl-video-episode-57.mp4\n"
     ]
    },
    {
     "name": "stderr",
     "output_type": "stream",
     "text": [
      " 58%|█████▊    | 58/100 [01:23<01:33,  2.24s/it]"
     ]
    },
    {
     "name": "stdout",
     "output_type": "stream",
     "text": [
      "Moviepy - Building video /home/ndelafuente/Desktop/Learn2Earn_RL-1/LunarLander/Reinforce/Videosv3/rl-video-episode-58.mp4.\n",
      "Moviepy - Writing video /home/ndelafuente/Desktop/Learn2Earn_RL-1/LunarLander/Reinforce/Videosv3/rl-video-episode-58.mp4\n",
      "\n"
     ]
    },
    {
     "name": "stderr",
     "output_type": "stream",
     "text": [
      " 59%|█████▉    | 59/100 [01:24<01:36,  2.34s/it]"
     ]
    },
    {
     "name": "stdout",
     "output_type": "stream",
     "text": [
      "Moviepy - Done !\n",
      "Moviepy - video ready /home/ndelafuente/Desktop/Learn2Earn_RL-1/LunarLander/Reinforce/Videosv3/rl-video-episode-58.mp4\n"
     ]
    },
    {
     "name": "stderr",
     "output_type": "stream",
     "text": [
      " 59%|█████▉    | 59/100 [01:25<01:36,  2.34s/it]"
     ]
    },
    {
     "name": "stdout",
     "output_type": "stream",
     "text": [
      "Moviepy - Building video /home/ndelafuente/Desktop/Learn2Earn_RL-1/LunarLander/Reinforce/Videosv3/rl-video-episode-59.mp4.\n",
      "Moviepy - Writing video /home/ndelafuente/Desktop/Learn2Earn_RL-1/LunarLander/Reinforce/Videosv3/rl-video-episode-59.mp4\n",
      "\n"
     ]
    },
    {
     "name": "stderr",
     "output_type": "stream",
     "text": [
      " 60%|██████    | 60/100 [01:27<01:34,  2.37s/it]"
     ]
    },
    {
     "name": "stdout",
     "output_type": "stream",
     "text": [
      "Moviepy - Done !\n",
      "Moviepy - video ready /home/ndelafuente/Desktop/Learn2Earn_RL-1/LunarLander/Reinforce/Videosv3/rl-video-episode-59.mp4\n"
     ]
    },
    {
     "name": "stderr",
     "output_type": "stream",
     "text": [
      " 60%|██████    | 60/100 [01:27<01:34,  2.37s/it]"
     ]
    },
    {
     "name": "stdout",
     "output_type": "stream",
     "text": [
      "Moviepy - Building video /home/ndelafuente/Desktop/Learn2Earn_RL-1/LunarLander/Reinforce/Videosv3/rl-video-episode-60.mp4.\n",
      "Moviepy - Writing video /home/ndelafuente/Desktop/Learn2Earn_RL-1/LunarLander/Reinforce/Videosv3/rl-video-episode-60.mp4\n",
      "\n"
     ]
    },
    {
     "name": "stderr",
     "output_type": "stream",
     "text": [
      " 61%|██████    | 61/100 [01:27<01:08,  1.75s/it]"
     ]
    },
    {
     "name": "stdout",
     "output_type": "stream",
     "text": [
      "Moviepy - Done !\n",
      "Moviepy - video ready /home/ndelafuente/Desktop/Learn2Earn_RL-1/LunarLander/Reinforce/Videosv3/rl-video-episode-60.mp4\n"
     ]
    },
    {
     "name": "stderr",
     "output_type": "stream",
     "text": [
      " 61%|██████    | 61/100 [01:28<01:08,  1.75s/it]"
     ]
    },
    {
     "name": "stdout",
     "output_type": "stream",
     "text": [
      "Moviepy - Building video /home/ndelafuente/Desktop/Learn2Earn_RL-1/LunarLander/Reinforce/Videosv3/rl-video-episode-61.mp4.\n",
      "Moviepy - Writing video /home/ndelafuente/Desktop/Learn2Earn_RL-1/LunarLander/Reinforce/Videosv3/rl-video-episode-61.mp4\n",
      "\n"
     ]
    },
    {
     "name": "stderr",
     "output_type": "stream",
     "text": [
      " 62%|██████▏   | 62/100 [01:29<01:13,  1.93s/it]"
     ]
    },
    {
     "name": "stdout",
     "output_type": "stream",
     "text": [
      "Moviepy - Done !\n",
      "Moviepy - video ready /home/ndelafuente/Desktop/Learn2Earn_RL-1/LunarLander/Reinforce/Videosv3/rl-video-episode-61.mp4\n"
     ]
    },
    {
     "name": "stderr",
     "output_type": "stream",
     "text": [
      " 62%|██████▏   | 62/100 [01:31<01:13,  1.93s/it]"
     ]
    },
    {
     "name": "stdout",
     "output_type": "stream",
     "text": [
      "Moviepy - Building video /home/ndelafuente/Desktop/Learn2Earn_RL-1/LunarLander/Reinforce/Videosv3/rl-video-episode-62.mp4.\n",
      "Moviepy - Writing video /home/ndelafuente/Desktop/Learn2Earn_RL-1/LunarLander/Reinforce/Videosv3/rl-video-episode-62.mp4\n",
      "\n"
     ]
    },
    {
     "name": "stderr",
     "output_type": "stream",
     "text": [
      " 63%|██████▎   | 63/100 [01:31<01:15,  2.05s/it]"
     ]
    },
    {
     "name": "stdout",
     "output_type": "stream",
     "text": [
      "Moviepy - Done !\n",
      "Moviepy - video ready /home/ndelafuente/Desktop/Learn2Earn_RL-1/LunarLander/Reinforce/Videosv3/rl-video-episode-62.mp4\n"
     ]
    },
    {
     "name": "stderr",
     "output_type": "stream",
     "text": [
      " 63%|██████▎   | 63/100 [01:33<01:15,  2.05s/it]"
     ]
    },
    {
     "name": "stdout",
     "output_type": "stream",
     "text": [
      "Moviepy - Building video /home/ndelafuente/Desktop/Learn2Earn_RL-1/LunarLander/Reinforce/Videosv3/rl-video-episode-63.mp4.\n",
      "Moviepy - Writing video /home/ndelafuente/Desktop/Learn2Earn_RL-1/LunarLander/Reinforce/Videosv3/rl-video-episode-63.mp4\n",
      "\n"
     ]
    },
    {
     "name": "stderr",
     "output_type": "stream",
     "text": [
      " 64%|██████▍   | 64/100 [01:34<01:16,  2.13s/it]"
     ]
    },
    {
     "name": "stdout",
     "output_type": "stream",
     "text": [
      "Moviepy - Done !\n",
      "Moviepy - video ready /home/ndelafuente/Desktop/Learn2Earn_RL-1/LunarLander/Reinforce/Videosv3/rl-video-episode-63.mp4\n"
     ]
    },
    {
     "name": "stderr",
     "output_type": "stream",
     "text": [
      " 64%|██████▍   | 64/100 [01:35<01:16,  2.13s/it]"
     ]
    },
    {
     "name": "stdout",
     "output_type": "stream",
     "text": [
      "Moviepy - Building video /home/ndelafuente/Desktop/Learn2Earn_RL-1/LunarLander/Reinforce/Videosv3/rl-video-episode-64.mp4.\n",
      "Moviepy - Writing video /home/ndelafuente/Desktop/Learn2Earn_RL-1/LunarLander/Reinforce/Videosv3/rl-video-episode-64.mp4\n",
      "\n"
     ]
    },
    {
     "name": "stderr",
     "output_type": "stream",
     "text": [
      " 65%|██████▌   | 65/100 [01:36<01:16,  2.18s/it]"
     ]
    },
    {
     "name": "stdout",
     "output_type": "stream",
     "text": [
      "Moviepy - Done !\n",
      "Moviepy - video ready /home/ndelafuente/Desktop/Learn2Earn_RL-1/LunarLander/Reinforce/Videosv3/rl-video-episode-64.mp4\n"
     ]
    },
    {
     "name": "stderr",
     "output_type": "stream",
     "text": [
      " 65%|██████▌   | 65/100 [01:37<01:16,  2.18s/it]"
     ]
    },
    {
     "name": "stdout",
     "output_type": "stream",
     "text": [
      "Moviepy - Building video /home/ndelafuente/Desktop/Learn2Earn_RL-1/LunarLander/Reinforce/Videosv3/rl-video-episode-65.mp4.\n",
      "Moviepy - Writing video /home/ndelafuente/Desktop/Learn2Earn_RL-1/LunarLander/Reinforce/Videosv3/rl-video-episode-65.mp4\n",
      "\n"
     ]
    },
    {
     "name": "stderr",
     "output_type": "stream",
     "text": [
      " 66%|██████▌   | 66/100 [01:38<01:15,  2.21s/it]"
     ]
    },
    {
     "name": "stdout",
     "output_type": "stream",
     "text": [
      "Moviepy - Done !\n",
      "Moviepy - video ready /home/ndelafuente/Desktop/Learn2Earn_RL-1/LunarLander/Reinforce/Videosv3/rl-video-episode-65.mp4\n"
     ]
    },
    {
     "name": "stderr",
     "output_type": "stream",
     "text": [
      " 66%|██████▌   | 66/100 [01:39<01:15,  2.21s/it]"
     ]
    },
    {
     "name": "stdout",
     "output_type": "stream",
     "text": [
      "Moviepy - Building video /home/ndelafuente/Desktop/Learn2Earn_RL-1/LunarLander/Reinforce/Videosv3/rl-video-episode-66.mp4.\n",
      "Moviepy - Writing video /home/ndelafuente/Desktop/Learn2Earn_RL-1/LunarLander/Reinforce/Videosv3/rl-video-episode-66.mp4\n",
      "\n"
     ]
    },
    {
     "name": "stderr",
     "output_type": "stream",
     "text": [
      " 67%|██████▋   | 67/100 [01:39<00:53,  1.63s/it]"
     ]
    },
    {
     "name": "stdout",
     "output_type": "stream",
     "text": [
      "Moviepy - Done !\n",
      "Moviepy - video ready /home/ndelafuente/Desktop/Learn2Earn_RL-1/LunarLander/Reinforce/Videosv3/rl-video-episode-66.mp4\n"
     ]
    },
    {
     "name": "stderr",
     "output_type": "stream",
     "text": [
      " 67%|██████▋   | 67/100 [01:40<00:53,  1.63s/it]"
     ]
    },
    {
     "name": "stdout",
     "output_type": "stream",
     "text": [
      "Moviepy - Building video /home/ndelafuente/Desktop/Learn2Earn_RL-1/LunarLander/Reinforce/Videosv3/rl-video-episode-67.mp4.\n",
      "Moviepy - Writing video /home/ndelafuente/Desktop/Learn2Earn_RL-1/LunarLander/Reinforce/Videosv3/rl-video-episode-67.mp4\n",
      "\n"
     ]
    },
    {
     "name": "stderr",
     "output_type": "stream",
     "text": [
      " 68%|██████▊   | 68/100 [01:41<00:59,  1.86s/it]"
     ]
    },
    {
     "name": "stdout",
     "output_type": "stream",
     "text": [
      "Moviepy - Done !\n",
      "Moviepy - video ready /home/ndelafuente/Desktop/Learn2Earn_RL-1/LunarLander/Reinforce/Videosv3/rl-video-episode-67.mp4\n"
     ]
    },
    {
     "name": "stderr",
     "output_type": "stream",
     "text": [
      " 68%|██████▊   | 68/100 [01:42<00:59,  1.86s/it]"
     ]
    },
    {
     "name": "stdout",
     "output_type": "stream",
     "text": [
      "Moviepy - Building video /home/ndelafuente/Desktop/Learn2Earn_RL-1/LunarLander/Reinforce/Videosv3/rl-video-episode-68.mp4.\n",
      "Moviepy - Writing video /home/ndelafuente/Desktop/Learn2Earn_RL-1/LunarLander/Reinforce/Videosv3/rl-video-episode-68.mp4\n",
      "\n"
     ]
    },
    {
     "name": "stderr",
     "output_type": "stream",
     "text": [
      " 69%|██████▉   | 69/100 [01:43<00:55,  1.79s/it]"
     ]
    },
    {
     "name": "stdout",
     "output_type": "stream",
     "text": [
      "Moviepy - Done !\n",
      "Moviepy - video ready /home/ndelafuente/Desktop/Learn2Earn_RL-1/LunarLander/Reinforce/Videosv3/rl-video-episode-68.mp4\n"
     ]
    },
    {
     "name": "stderr",
     "output_type": "stream",
     "text": [
      " 69%|██████▉   | 69/100 [01:44<00:55,  1.79s/it]"
     ]
    },
    {
     "name": "stdout",
     "output_type": "stream",
     "text": [
      "Moviepy - Building video /home/ndelafuente/Desktop/Learn2Earn_RL-1/LunarLander/Reinforce/Videosv3/rl-video-episode-69.mp4.\n",
      "Moviepy - Writing video /home/ndelafuente/Desktop/Learn2Earn_RL-1/LunarLander/Reinforce/Videosv3/rl-video-episode-69.mp4\n",
      "\n"
     ]
    },
    {
     "name": "stderr",
     "output_type": "stream",
     "text": [
      " 70%|███████   | 70/100 [01:45<00:58,  1.95s/it]"
     ]
    },
    {
     "name": "stdout",
     "output_type": "stream",
     "text": [
      "Moviepy - Done !\n",
      "Moviepy - video ready /home/ndelafuente/Desktop/Learn2Earn_RL-1/LunarLander/Reinforce/Videosv3/rl-video-episode-69.mp4\n"
     ]
    },
    {
     "name": "stderr",
     "output_type": "stream",
     "text": [
      " 70%|███████   | 70/100 [01:45<00:58,  1.95s/it]"
     ]
    },
    {
     "name": "stdout",
     "output_type": "stream",
     "text": [
      "Moviepy - Building video /home/ndelafuente/Desktop/Learn2Earn_RL-1/LunarLander/Reinforce/Videosv3/rl-video-episode-70.mp4.\n",
      "Moviepy - Writing video /home/ndelafuente/Desktop/Learn2Earn_RL-1/LunarLander/Reinforce/Videosv3/rl-video-episode-70.mp4\n",
      "\n"
     ]
    },
    {
     "name": "stderr",
     "output_type": "stream",
     "text": [
      " 71%|███████   | 71/100 [01:46<00:44,  1.54s/it]"
     ]
    },
    {
     "name": "stdout",
     "output_type": "stream",
     "text": [
      "Moviepy - Done !\n",
      "Moviepy - video ready /home/ndelafuente/Desktop/Learn2Earn_RL-1/LunarLander/Reinforce/Videosv3/rl-video-episode-70.mp4\n"
     ]
    },
    {
     "name": "stderr",
     "output_type": "stream",
     "text": [
      " 71%|███████   | 71/100 [01:47<00:44,  1.54s/it]"
     ]
    },
    {
     "name": "stdout",
     "output_type": "stream",
     "text": [
      "Moviepy - Building video /home/ndelafuente/Desktop/Learn2Earn_RL-1/LunarLander/Reinforce/Videosv3/rl-video-episode-71.mp4.\n",
      "Moviepy - Writing video /home/ndelafuente/Desktop/Learn2Earn_RL-1/LunarLander/Reinforce/Videosv3/rl-video-episode-71.mp4\n",
      "\n"
     ]
    },
    {
     "name": "stderr",
     "output_type": "stream",
     "text": [
      " 72%|███████▏  | 72/100 [01:48<00:49,  1.76s/it]"
     ]
    },
    {
     "name": "stdout",
     "output_type": "stream",
     "text": [
      "Moviepy - Done !\n",
      "Moviepy - video ready /home/ndelafuente/Desktop/Learn2Earn_RL-1/LunarLander/Reinforce/Videosv3/rl-video-episode-71.mp4\n"
     ]
    },
    {
     "name": "stderr",
     "output_type": "stream",
     "text": [
      " 72%|███████▏  | 72/100 [01:48<00:49,  1.76s/it]"
     ]
    },
    {
     "name": "stdout",
     "output_type": "stream",
     "text": [
      "Moviepy - Building video /home/ndelafuente/Desktop/Learn2Earn_RL-1/LunarLander/Reinforce/Videosv3/rl-video-episode-72.mp4.\n",
      "Moviepy - Writing video /home/ndelafuente/Desktop/Learn2Earn_RL-1/LunarLander/Reinforce/Videosv3/rl-video-episode-72.mp4\n",
      "\n"
     ]
    },
    {
     "name": "stderr",
     "output_type": "stream",
     "text": [
      " 73%|███████▎  | 73/100 [01:48<00:35,  1.31s/it]"
     ]
    },
    {
     "name": "stdout",
     "output_type": "stream",
     "text": [
      "Moviepy - Done !\n",
      "Moviepy - video ready /home/ndelafuente/Desktop/Learn2Earn_RL-1/LunarLander/Reinforce/Videosv3/rl-video-episode-72.mp4\n"
     ]
    },
    {
     "name": "stderr",
     "output_type": "stream",
     "text": [
      " 73%|███████▎  | 73/100 [01:49<00:35,  1.31s/it]"
     ]
    },
    {
     "name": "stdout",
     "output_type": "stream",
     "text": [
      "Moviepy - Building video /home/ndelafuente/Desktop/Learn2Earn_RL-1/LunarLander/Reinforce/Videosv3/rl-video-episode-73.mp4.\n",
      "Moviepy - Writing video /home/ndelafuente/Desktop/Learn2Earn_RL-1/LunarLander/Reinforce/Videosv3/rl-video-episode-73.mp4\n",
      "\n"
     ]
    },
    {
     "name": "stderr",
     "output_type": "stream",
     "text": [
      " 74%|███████▍  | 74/100 [01:50<00:41,  1.60s/it]"
     ]
    },
    {
     "name": "stdout",
     "output_type": "stream",
     "text": [
      "Moviepy - Done !\n",
      "Moviepy - video ready /home/ndelafuente/Desktop/Learn2Earn_RL-1/LunarLander/Reinforce/Videosv3/rl-video-episode-73.mp4\n"
     ]
    },
    {
     "name": "stderr",
     "output_type": "stream",
     "text": [
      " 74%|███████▍  | 74/100 [01:52<00:41,  1.60s/it]"
     ]
    },
    {
     "name": "stdout",
     "output_type": "stream",
     "text": [
      "Moviepy - Building video /home/ndelafuente/Desktop/Learn2Earn_RL-1/LunarLander/Reinforce/Videosv3/rl-video-episode-74.mp4.\n",
      "Moviepy - Writing video /home/ndelafuente/Desktop/Learn2Earn_RL-1/LunarLander/Reinforce/Videosv3/rl-video-episode-74.mp4\n",
      "\n"
     ]
    },
    {
     "name": "stderr",
     "output_type": "stream",
     "text": [
      " 75%|███████▌  | 75/100 [01:53<00:45,  1.81s/it]"
     ]
    },
    {
     "name": "stdout",
     "output_type": "stream",
     "text": [
      "Moviepy - Done !\n",
      "Moviepy - video ready /home/ndelafuente/Desktop/Learn2Earn_RL-1/LunarLander/Reinforce/Videosv3/rl-video-episode-74.mp4\n"
     ]
    },
    {
     "name": "stderr",
     "output_type": "stream",
     "text": [
      " 75%|███████▌  | 75/100 [01:53<00:45,  1.81s/it]"
     ]
    },
    {
     "name": "stdout",
     "output_type": "stream",
     "text": [
      "Moviepy - Building video /home/ndelafuente/Desktop/Learn2Earn_RL-1/LunarLander/Reinforce/Videosv3/rl-video-episode-75.mp4.\n",
      "Moviepy - Writing video /home/ndelafuente/Desktop/Learn2Earn_RL-1/LunarLander/Reinforce/Videosv3/rl-video-episode-75.mp4\n",
      "\n"
     ]
    },
    {
     "name": "stderr",
     "output_type": "stream",
     "text": [
      " 76%|███████▌  | 76/100 [01:53<00:32,  1.36s/it]"
     ]
    },
    {
     "name": "stdout",
     "output_type": "stream",
     "text": [
      "Moviepy - Done !\n",
      "Moviepy - video ready /home/ndelafuente/Desktop/Learn2Earn_RL-1/LunarLander/Reinforce/Videosv3/rl-video-episode-75.mp4\n"
     ]
    },
    {
     "name": "stderr",
     "output_type": "stream",
     "text": [
      " 76%|███████▌  | 76/100 [01:54<00:32,  1.36s/it]"
     ]
    },
    {
     "name": "stdout",
     "output_type": "stream",
     "text": [
      "Moviepy - Building video /home/ndelafuente/Desktop/Learn2Earn_RL-1/LunarLander/Reinforce/Videosv3/rl-video-episode-76.mp4.\n",
      "Moviepy - Writing video /home/ndelafuente/Desktop/Learn2Earn_RL-1/LunarLander/Reinforce/Videosv3/rl-video-episode-76.mp4\n",
      "\n"
     ]
    },
    {
     "name": "stderr",
     "output_type": "stream",
     "text": [
      " 77%|███████▋  | 77/100 [01:55<00:37,  1.64s/it]"
     ]
    },
    {
     "name": "stdout",
     "output_type": "stream",
     "text": [
      "Moviepy - Done !\n",
      "Moviepy - video ready /home/ndelafuente/Desktop/Learn2Earn_RL-1/LunarLander/Reinforce/Videosv3/rl-video-episode-76.mp4\n"
     ]
    },
    {
     "name": "stderr",
     "output_type": "stream",
     "text": [
      " 77%|███████▋  | 77/100 [01:55<00:37,  1.64s/it]"
     ]
    },
    {
     "name": "stdout",
     "output_type": "stream",
     "text": [
      "Moviepy - Building video /home/ndelafuente/Desktop/Learn2Earn_RL-1/LunarLander/Reinforce/Videosv3/rl-video-episode-77.mp4.\n",
      "Moviepy - Writing video /home/ndelafuente/Desktop/Learn2Earn_RL-1/LunarLander/Reinforce/Videosv3/rl-video-episode-77.mp4\n",
      "\n"
     ]
    },
    {
     "name": "stderr",
     "output_type": "stream",
     "text": [
      " 78%|███████▊  | 78/100 [01:56<00:26,  1.22s/it]"
     ]
    },
    {
     "name": "stdout",
     "output_type": "stream",
     "text": [
      "Moviepy - Done !\n",
      "Moviepy - video ready /home/ndelafuente/Desktop/Learn2Earn_RL-1/LunarLander/Reinforce/Videosv3/rl-video-episode-77.mp4\n"
     ]
    },
    {
     "name": "stderr",
     "output_type": "stream",
     "text": [
      " 78%|███████▊  | 78/100 [01:57<00:26,  1.22s/it]"
     ]
    },
    {
     "name": "stdout",
     "output_type": "stream",
     "text": [
      "Moviepy - Building video /home/ndelafuente/Desktop/Learn2Earn_RL-1/LunarLander/Reinforce/Videosv3/rl-video-episode-78.mp4.\n",
      "Moviepy - Writing video /home/ndelafuente/Desktop/Learn2Earn_RL-1/LunarLander/Reinforce/Videosv3/rl-video-episode-78.mp4\n",
      "\n"
     ]
    },
    {
     "name": "stderr",
     "output_type": "stream",
     "text": [
      " 79%|███████▉  | 79/100 [01:58<00:32,  1.54s/it]"
     ]
    },
    {
     "name": "stdout",
     "output_type": "stream",
     "text": [
      "Moviepy - Done !\n",
      "Moviepy - video ready /home/ndelafuente/Desktop/Learn2Earn_RL-1/LunarLander/Reinforce/Videosv3/rl-video-episode-78.mp4\n"
     ]
    },
    {
     "name": "stderr",
     "output_type": "stream",
     "text": [
      " 79%|███████▉  | 79/100 [01:59<00:32,  1.54s/it]"
     ]
    },
    {
     "name": "stdout",
     "output_type": "stream",
     "text": [
      "Moviepy - Building video /home/ndelafuente/Desktop/Learn2Earn_RL-1/LunarLander/Reinforce/Videosv3/rl-video-episode-79.mp4.\n",
      "Moviepy - Writing video /home/ndelafuente/Desktop/Learn2Earn_RL-1/LunarLander/Reinforce/Videosv3/rl-video-episode-79.mp4\n",
      "\n"
     ]
    },
    {
     "name": "stderr",
     "output_type": "stream",
     "text": [
      " 80%|████████  | 80/100 [02:00<00:35,  1.78s/it]"
     ]
    },
    {
     "name": "stdout",
     "output_type": "stream",
     "text": [
      "Moviepy - Done !\n",
      "Moviepy - video ready /home/ndelafuente/Desktop/Learn2Earn_RL-1/LunarLander/Reinforce/Videosv3/rl-video-episode-79.mp4\n"
     ]
    },
    {
     "name": "stderr",
     "output_type": "stream",
     "text": [
      " 80%|████████  | 80/100 [02:01<00:35,  1.78s/it]"
     ]
    },
    {
     "name": "stdout",
     "output_type": "stream",
     "text": [
      "Moviepy - Building video /home/ndelafuente/Desktop/Learn2Earn_RL-1/LunarLander/Reinforce/Videosv3/rl-video-episode-80.mp4.\n",
      "Moviepy - Writing video /home/ndelafuente/Desktop/Learn2Earn_RL-1/LunarLander/Reinforce/Videosv3/rl-video-episode-80.mp4\n",
      "\n"
     ]
    },
    {
     "name": "stderr",
     "output_type": "stream",
     "text": [
      " 81%|████████  | 81/100 [02:02<00:36,  1.94s/it]"
     ]
    },
    {
     "name": "stdout",
     "output_type": "stream",
     "text": [
      "Moviepy - Done !\n",
      "Moviepy - video ready /home/ndelafuente/Desktop/Learn2Earn_RL-1/LunarLander/Reinforce/Videosv3/rl-video-episode-80.mp4\n"
     ]
    },
    {
     "name": "stderr",
     "output_type": "stream",
     "text": [
      " 81%|████████  | 81/100 [02:04<00:36,  1.94s/it]"
     ]
    },
    {
     "name": "stdout",
     "output_type": "stream",
     "text": [
      "Moviepy - Building video /home/ndelafuente/Desktop/Learn2Earn_RL-1/LunarLander/Reinforce/Videosv3/rl-video-episode-81.mp4.\n",
      "Moviepy - Writing video /home/ndelafuente/Desktop/Learn2Earn_RL-1/LunarLander/Reinforce/Videosv3/rl-video-episode-81.mp4\n",
      "\n"
     ]
    },
    {
     "name": "stderr",
     "output_type": "stream",
     "text": [
      " 82%|████████▏ | 82/100 [02:05<00:37,  2.06s/it]"
     ]
    },
    {
     "name": "stdout",
     "output_type": "stream",
     "text": [
      "Moviepy - Done !\n",
      "Moviepy - video ready /home/ndelafuente/Desktop/Learn2Earn_RL-1/LunarLander/Reinforce/Videosv3/rl-video-episode-81.mp4\n"
     ]
    },
    {
     "name": "stderr",
     "output_type": "stream",
     "text": [
      " 82%|████████▏ | 82/100 [02:06<00:37,  2.06s/it]"
     ]
    },
    {
     "name": "stdout",
     "output_type": "stream",
     "text": [
      "Moviepy - Building video /home/ndelafuente/Desktop/Learn2Earn_RL-1/LunarLander/Reinforce/Videosv3/rl-video-episode-82.mp4.\n",
      "Moviepy - Writing video /home/ndelafuente/Desktop/Learn2Earn_RL-1/LunarLander/Reinforce/Videosv3/rl-video-episode-82.mp4\n",
      "\n"
     ]
    },
    {
     "name": "stderr",
     "output_type": "stream",
     "text": [
      " 83%|████████▎ | 83/100 [02:07<00:36,  2.13s/it]"
     ]
    },
    {
     "name": "stdout",
     "output_type": "stream",
     "text": [
      "Moviepy - Done !\n",
      "Moviepy - video ready /home/ndelafuente/Desktop/Learn2Earn_RL-1/LunarLander/Reinforce/Videosv3/rl-video-episode-82.mp4\n"
     ]
    },
    {
     "name": "stderr",
     "output_type": "stream",
     "text": [
      " 83%|████████▎ | 83/100 [02:08<00:36,  2.13s/it]"
     ]
    },
    {
     "name": "stdout",
     "output_type": "stream",
     "text": [
      "Moviepy - Building video /home/ndelafuente/Desktop/Learn2Earn_RL-1/LunarLander/Reinforce/Videosv3/rl-video-episode-83.mp4.\n",
      "Moviepy - Writing video /home/ndelafuente/Desktop/Learn2Earn_RL-1/LunarLander/Reinforce/Videosv3/rl-video-episode-83.mp4\n",
      "\n"
     ]
    },
    {
     "name": "stderr",
     "output_type": "stream",
     "text": [
      " 84%|████████▍ | 84/100 [02:09<00:34,  2.18s/it]"
     ]
    },
    {
     "name": "stdout",
     "output_type": "stream",
     "text": [
      "Moviepy - Done !\n",
      "Moviepy - video ready /home/ndelafuente/Desktop/Learn2Earn_RL-1/LunarLander/Reinforce/Videosv3/rl-video-episode-83.mp4\n"
     ]
    },
    {
     "name": "stderr",
     "output_type": "stream",
     "text": [
      " 84%|████████▍ | 84/100 [02:11<00:34,  2.18s/it]"
     ]
    },
    {
     "name": "stdout",
     "output_type": "stream",
     "text": [
      "Moviepy - Building video /home/ndelafuente/Desktop/Learn2Earn_RL-1/LunarLander/Reinforce/Videosv3/rl-video-episode-84.mp4.\n",
      "Moviepy - Writing video /home/ndelafuente/Desktop/Learn2Earn_RL-1/LunarLander/Reinforce/Videosv3/rl-video-episode-84.mp4\n",
      "\n"
     ]
    },
    {
     "name": "stderr",
     "output_type": "stream",
     "text": [
      " 85%|████████▌ | 85/100 [02:12<00:33,  2.23s/it]"
     ]
    },
    {
     "name": "stdout",
     "output_type": "stream",
     "text": [
      "Moviepy - Done !\n",
      "Moviepy - video ready /home/ndelafuente/Desktop/Learn2Earn_RL-1/LunarLander/Reinforce/Videosv3/rl-video-episode-84.mp4\n"
     ]
    },
    {
     "name": "stderr",
     "output_type": "stream",
     "text": [
      " 85%|████████▌ | 85/100 [02:13<00:33,  2.23s/it]"
     ]
    },
    {
     "name": "stdout",
     "output_type": "stream",
     "text": [
      "Moviepy - Building video /home/ndelafuente/Desktop/Learn2Earn_RL-1/LunarLander/Reinforce/Videosv3/rl-video-episode-85.mp4.\n",
      "Moviepy - Writing video /home/ndelafuente/Desktop/Learn2Earn_RL-1/LunarLander/Reinforce/Videosv3/rl-video-episode-85.mp4\n",
      "\n"
     ]
    },
    {
     "name": "stderr",
     "output_type": "stream",
     "text": [
      " 86%|████████▌ | 86/100 [02:14<00:31,  2.25s/it]"
     ]
    },
    {
     "name": "stdout",
     "output_type": "stream",
     "text": [
      "Moviepy - Done !\n",
      "Moviepy - video ready /home/ndelafuente/Desktop/Learn2Earn_RL-1/LunarLander/Reinforce/Videosv3/rl-video-episode-85.mp4\n"
     ]
    },
    {
     "name": "stderr",
     "output_type": "stream",
     "text": [
      " 86%|████████▌ | 86/100 [02:15<00:31,  2.25s/it]"
     ]
    },
    {
     "name": "stdout",
     "output_type": "stream",
     "text": [
      "Moviepy - Building video /home/ndelafuente/Desktop/Learn2Earn_RL-1/LunarLander/Reinforce/Videosv3/rl-video-episode-86.mp4.\n",
      "Moviepy - Writing video /home/ndelafuente/Desktop/Learn2Earn_RL-1/LunarLander/Reinforce/Videosv3/rl-video-episode-86.mp4\n",
      "\n"
     ]
    },
    {
     "name": "stderr",
     "output_type": "stream",
     "text": [
      " 87%|████████▋ | 87/100 [02:16<00:29,  2.29s/it]"
     ]
    },
    {
     "name": "stdout",
     "output_type": "stream",
     "text": [
      "Moviepy - Done !\n",
      "Moviepy - video ready /home/ndelafuente/Desktop/Learn2Earn_RL-1/LunarLander/Reinforce/Videosv3/rl-video-episode-86.mp4\n"
     ]
    },
    {
     "name": "stderr",
     "output_type": "stream",
     "text": [
      " 87%|████████▋ | 87/100 [02:18<00:29,  2.29s/it]"
     ]
    },
    {
     "name": "stdout",
     "output_type": "stream",
     "text": [
      "Moviepy - Building video /home/ndelafuente/Desktop/Learn2Earn_RL-1/LunarLander/Reinforce/Videosv3/rl-video-episode-87.mp4.\n",
      "Moviepy - Writing video /home/ndelafuente/Desktop/Learn2Earn_RL-1/LunarLander/Reinforce/Videosv3/rl-video-episode-87.mp4\n",
      "\n"
     ]
    },
    {
     "name": "stderr",
     "output_type": "stream",
     "text": [
      " 88%|████████▊ | 88/100 [02:19<00:26,  2.23s/it]"
     ]
    },
    {
     "name": "stdout",
     "output_type": "stream",
     "text": [
      "Moviepy - Done !\n",
      "Moviepy - video ready /home/ndelafuente/Desktop/Learn2Earn_RL-1/LunarLander/Reinforce/Videosv3/rl-video-episode-87.mp4\n"
     ]
    },
    {
     "name": "stderr",
     "output_type": "stream",
     "text": [
      " 88%|████████▊ | 88/100 [02:20<00:26,  2.23s/it]"
     ]
    },
    {
     "name": "stdout",
     "output_type": "stream",
     "text": [
      "Moviepy - Building video /home/ndelafuente/Desktop/Learn2Earn_RL-1/LunarLander/Reinforce/Videosv3/rl-video-episode-88.mp4.\n",
      "Moviepy - Writing video /home/ndelafuente/Desktop/Learn2Earn_RL-1/LunarLander/Reinforce/Videosv3/rl-video-episode-88.mp4\n",
      "\n"
     ]
    },
    {
     "name": "stderr",
     "output_type": "stream",
     "text": [
      " 89%|████████▉ | 89/100 [02:21<00:24,  2.26s/it]"
     ]
    },
    {
     "name": "stdout",
     "output_type": "stream",
     "text": [
      "Moviepy - Done !\n",
      "Moviepy - video ready /home/ndelafuente/Desktop/Learn2Earn_RL-1/LunarLander/Reinforce/Videosv3/rl-video-episode-88.mp4\n"
     ]
    },
    {
     "name": "stderr",
     "output_type": "stream",
     "text": [
      " 89%|████████▉ | 89/100 [02:21<00:24,  2.26s/it]"
     ]
    },
    {
     "name": "stdout",
     "output_type": "stream",
     "text": [
      "Moviepy - Building video /home/ndelafuente/Desktop/Learn2Earn_RL-1/LunarLander/Reinforce/Videosv3/rl-video-episode-89.mp4.\n",
      "Moviepy - Writing video /home/ndelafuente/Desktop/Learn2Earn_RL-1/LunarLander/Reinforce/Videosv3/rl-video-episode-89.mp4\n",
      "\n"
     ]
    },
    {
     "name": "stderr",
     "output_type": "stream",
     "text": [
      " 90%|█████████ | 90/100 [02:21<00:16,  1.68s/it]"
     ]
    },
    {
     "name": "stdout",
     "output_type": "stream",
     "text": [
      "Moviepy - Done !\n",
      "Moviepy - video ready /home/ndelafuente/Desktop/Learn2Earn_RL-1/LunarLander/Reinforce/Videosv3/rl-video-episode-89.mp4\n"
     ]
    },
    {
     "name": "stderr",
     "output_type": "stream",
     "text": [
      " 90%|█████████ | 90/100 [02:22<00:16,  1.68s/it]"
     ]
    },
    {
     "name": "stdout",
     "output_type": "stream",
     "text": [
      "Moviepy - Building video /home/ndelafuente/Desktop/Learn2Earn_RL-1/LunarLander/Reinforce/Videosv3/rl-video-episode-90.mp4.\n",
      "Moviepy - Writing video /home/ndelafuente/Desktop/Learn2Earn_RL-1/LunarLander/Reinforce/Videosv3/rl-video-episode-90.mp4\n",
      "\n"
     ]
    },
    {
     "name": "stderr",
     "output_type": "stream",
     "text": [
      " 91%|█████████ | 91/100 [02:22<00:13,  1.51s/it]"
     ]
    },
    {
     "name": "stdout",
     "output_type": "stream",
     "text": [
      "Moviepy - Done !\n",
      "Moviepy - video ready /home/ndelafuente/Desktop/Learn2Earn_RL-1/LunarLander/Reinforce/Videosv3/rl-video-episode-90.mp4\n"
     ]
    },
    {
     "name": "stderr",
     "output_type": "stream",
     "text": [
      " 91%|█████████ | 91/100 [02:23<00:13,  1.51s/it]"
     ]
    },
    {
     "name": "stdout",
     "output_type": "stream",
     "text": [
      "Moviepy - Building video /home/ndelafuente/Desktop/Learn2Earn_RL-1/LunarLander/Reinforce/Videosv3/rl-video-episode-91.mp4.\n",
      "Moviepy - Writing video /home/ndelafuente/Desktop/Learn2Earn_RL-1/LunarLander/Reinforce/Videosv3/rl-video-episode-91.mp4\n",
      "\n"
     ]
    },
    {
     "name": "stderr",
     "output_type": "stream",
     "text": [
      " 92%|█████████▏| 92/100 [02:24<00:11,  1.45s/it]"
     ]
    },
    {
     "name": "stdout",
     "output_type": "stream",
     "text": [
      "Moviepy - Done !\n",
      "Moviepy - video ready /home/ndelafuente/Desktop/Learn2Earn_RL-1/LunarLander/Reinforce/Videosv3/rl-video-episode-91.mp4\n"
     ]
    },
    {
     "name": "stderr",
     "output_type": "stream",
     "text": [
      " 92%|█████████▏| 92/100 [02:25<00:11,  1.45s/it]"
     ]
    },
    {
     "name": "stdout",
     "output_type": "stream",
     "text": [
      "Moviepy - Building video /home/ndelafuente/Desktop/Learn2Earn_RL-1/LunarLander/Reinforce/Videosv3/rl-video-episode-92.mp4.\n",
      "Moviepy - Writing video /home/ndelafuente/Desktop/Learn2Earn_RL-1/LunarLander/Reinforce/Videosv3/rl-video-episode-92.mp4\n",
      "\n"
     ]
    },
    {
     "name": "stderr",
     "output_type": "stream",
     "text": [
      " 93%|█████████▎| 93/100 [02:26<00:11,  1.71s/it]"
     ]
    },
    {
     "name": "stdout",
     "output_type": "stream",
     "text": [
      "Moviepy - Done !\n",
      "Moviepy - video ready /home/ndelafuente/Desktop/Learn2Earn_RL-1/LunarLander/Reinforce/Videosv3/rl-video-episode-92.mp4\n"
     ]
    },
    {
     "name": "stderr",
     "output_type": "stream",
     "text": [
      " 93%|█████████▎| 93/100 [02:26<00:11,  1.71s/it]"
     ]
    },
    {
     "name": "stdout",
     "output_type": "stream",
     "text": [
      "Moviepy - Building video /home/ndelafuente/Desktop/Learn2Earn_RL-1/LunarLander/Reinforce/Videosv3/rl-video-episode-93.mp4.\n",
      "Moviepy - Writing video /home/ndelafuente/Desktop/Learn2Earn_RL-1/LunarLander/Reinforce/Videosv3/rl-video-episode-93.mp4\n",
      "\n"
     ]
    },
    {
     "name": "stderr",
     "output_type": "stream",
     "text": [
      " 94%|█████████▍| 94/100 [02:27<00:08,  1.50s/it]"
     ]
    },
    {
     "name": "stdout",
     "output_type": "stream",
     "text": [
      "Moviepy - Done !\n",
      "Moviepy - video ready /home/ndelafuente/Desktop/Learn2Earn_RL-1/LunarLander/Reinforce/Videosv3/rl-video-episode-93.mp4\n"
     ]
    },
    {
     "name": "stderr",
     "output_type": "stream",
     "text": [
      " 94%|█████████▍| 94/100 [02:28<00:08,  1.50s/it]"
     ]
    },
    {
     "name": "stdout",
     "output_type": "stream",
     "text": [
      "Moviepy - Building video /home/ndelafuente/Desktop/Learn2Earn_RL-1/LunarLander/Reinforce/Videosv3/rl-video-episode-94.mp4.\n",
      "Moviepy - Writing video /home/ndelafuente/Desktop/Learn2Earn_RL-1/LunarLander/Reinforce/Videosv3/rl-video-episode-94.mp4\n",
      "\n"
     ]
    },
    {
     "name": "stderr",
     "output_type": "stream",
     "text": [
      " 95%|█████████▌| 95/100 [02:28<00:07,  1.43s/it]"
     ]
    },
    {
     "name": "stdout",
     "output_type": "stream",
     "text": [
      "Moviepy - Done !\n",
      "Moviepy - video ready /home/ndelafuente/Desktop/Learn2Earn_RL-1/LunarLander/Reinforce/Videosv3/rl-video-episode-94.mp4\n"
     ]
    },
    {
     "name": "stderr",
     "output_type": "stream",
     "text": [
      " 95%|█████████▌| 95/100 [02:30<00:07,  1.43s/it]"
     ]
    },
    {
     "name": "stdout",
     "output_type": "stream",
     "text": [
      "Moviepy - Building video /home/ndelafuente/Desktop/Learn2Earn_RL-1/LunarLander/Reinforce/Videosv3/rl-video-episode-95.mp4.\n",
      "Moviepy - Writing video /home/ndelafuente/Desktop/Learn2Earn_RL-1/LunarLander/Reinforce/Videosv3/rl-video-episode-95.mp4\n",
      "\n"
     ]
    },
    {
     "name": "stderr",
     "output_type": "stream",
     "text": [
      " 96%|█████████▌| 96/100 [02:30<00:06,  1.69s/it]"
     ]
    },
    {
     "name": "stdout",
     "output_type": "stream",
     "text": [
      "Moviepy - Done !\n",
      "Moviepy - video ready /home/ndelafuente/Desktop/Learn2Earn_RL-1/LunarLander/Reinforce/Videosv3/rl-video-episode-95.mp4\n"
     ]
    },
    {
     "name": "stderr",
     "output_type": "stream",
     "text": [
      " 96%|█████████▌| 96/100 [02:31<00:06,  1.69s/it]"
     ]
    },
    {
     "name": "stdout",
     "output_type": "stream",
     "text": [
      "Moviepy - Building video /home/ndelafuente/Desktop/Learn2Earn_RL-1/LunarLander/Reinforce/Videosv3/rl-video-episode-96.mp4.\n",
      "Moviepy - Writing video /home/ndelafuente/Desktop/Learn2Earn_RL-1/LunarLander/Reinforce/Videosv3/rl-video-episode-96.mp4\n",
      "\n"
     ]
    },
    {
     "name": "stderr",
     "output_type": "stream",
     "text": [
      " 97%|█████████▋| 97/100 [02:32<00:04,  1.49s/it]"
     ]
    },
    {
     "name": "stdout",
     "output_type": "stream",
     "text": [
      "Moviepy - Done !\n",
      "Moviepy - video ready /home/ndelafuente/Desktop/Learn2Earn_RL-1/LunarLander/Reinforce/Videosv3/rl-video-episode-96.mp4\n"
     ]
    },
    {
     "name": "stderr",
     "output_type": "stream",
     "text": [
      " 97%|█████████▋| 97/100 [02:32<00:04,  1.49s/it]"
     ]
    },
    {
     "name": "stdout",
     "output_type": "stream",
     "text": [
      "Moviepy - Building video /home/ndelafuente/Desktop/Learn2Earn_RL-1/LunarLander/Reinforce/Videosv3/rl-video-episode-97.mp4.\n",
      "Moviepy - Writing video /home/ndelafuente/Desktop/Learn2Earn_RL-1/LunarLander/Reinforce/Videosv3/rl-video-episode-97.mp4\n",
      "\n"
     ]
    },
    {
     "name": "stderr",
     "output_type": "stream",
     "text": [
      " 98%|█████████▊| 98/100 [02:32<00:02,  1.14s/it]"
     ]
    },
    {
     "name": "stdout",
     "output_type": "stream",
     "text": [
      "Moviepy - Done !\n",
      "Moviepy - video ready /home/ndelafuente/Desktop/Learn2Earn_RL-1/LunarLander/Reinforce/Videosv3/rl-video-episode-97.mp4\n"
     ]
    },
    {
     "name": "stderr",
     "output_type": "stream",
     "text": [
      " 98%|█████████▊| 98/100 [02:32<00:02,  1.14s/it]"
     ]
    },
    {
     "name": "stdout",
     "output_type": "stream",
     "text": [
      "Moviepy - Building video /home/ndelafuente/Desktop/Learn2Earn_RL-1/LunarLander/Reinforce/Videosv3/rl-video-episode-98.mp4.\n",
      "Moviepy - Writing video /home/ndelafuente/Desktop/Learn2Earn_RL-1/LunarLander/Reinforce/Videosv3/rl-video-episode-98.mp4\n",
      "\n"
     ]
    },
    {
     "name": "stderr",
     "output_type": "stream",
     "text": [
      " 99%|█████████▉| 99/100 [02:33<00:01,  1.07s/it]"
     ]
    },
    {
     "name": "stdout",
     "output_type": "stream",
     "text": [
      "Moviepy - Done !\n",
      "Moviepy - video ready /home/ndelafuente/Desktop/Learn2Earn_RL-1/LunarLander/Reinforce/Videosv3/rl-video-episode-98.mp4\n"
     ]
    },
    {
     "name": "stderr",
     "output_type": "stream",
     "text": [
      " 99%|█████████▉| 99/100 [02:34<00:01,  1.07s/it]"
     ]
    },
    {
     "name": "stdout",
     "output_type": "stream",
     "text": [
      "Moviepy - Building video /home/ndelafuente/Desktop/Learn2Earn_RL-1/LunarLander/Reinforce/Videosv3/rl-video-episode-99.mp4.\n",
      "Moviepy - Writing video /home/ndelafuente/Desktop/Learn2Earn_RL-1/LunarLander/Reinforce/Videosv3/rl-video-episode-99.mp4\n",
      "\n"
     ]
    },
    {
     "name": "stderr",
     "output_type": "stream",
     "text": [
      "100%|██████████| 100/100 [02:35<00:00,  1.55s/it]\n"
     ]
    },
    {
     "name": "stdout",
     "output_type": "stream",
     "text": [
      "Moviepy - Done !\n",
      "Moviepy - video ready /home/ndelafuente/Desktop/Learn2Earn_RL-1/LunarLander/Reinforce/Videosv3/rl-video-episode-99.mp4\n"
     ]
    },
    {
     "name": "stderr",
     "output_type": "stream",
     "text": [
      "wandb: WARNING Source type is set to 'repo' but some required information is missing from the environment. A job will not be created from this run. See https://docs.wandb.ai/guides/launch/create-job\n"
     ]
    },
    {
     "data": {
      "text/html": [
       "<style>\n",
       "    table.wandb td:nth-child(1) { padding: 0 10px; text-align: left ; width: auto;} td:nth-child(2) {text-align: left ; width: 100%}\n",
       "    .wandb-row { display: flex; flex-direction: row; flex-wrap: wrap; justify-content: flex-start; width: 100% }\n",
       "    .wandb-col { display: flex; flex-direction: column; flex-basis: 100%; flex: 1; padding: 10px; }\n",
       "    </style>\n",
       "<div class=\"wandb-row\"><div class=\"wandb-col\"><h3>Run history:</h3><br/><table class=\"wandb\"><tr><td>Episode reward</td><td>▃▃▇▃▃▆█▅▅▅▃▃▆▁▅▆█▂██▆▇▅▅▃▆▃▇▆▆▇▇▆▆▅▅█▇▇▇</td></tr><tr><td>Full average reward</td><td>▁▆▅▄▅▅▆▇▇▆▆▆▆▆▆▇▇▇▇████████████▇████████</td></tr><tr><td>Lat 100 episodes Average reward</td><td>▁▆▅▄▅▅▆▇▇▆▆▆▆▆▆▇▇▇▇████████████▇████████</td></tr><tr><td>best_score</td><td>▁▇▇▇▇▇▇▇▇▇▇▇▇▇▇▇▇▇▇█████████████████████</td></tr><tr><td>episode</td><td>▁▁▁▁▂▂▂▂▂▃▃▃▃▃▃▄▄▄▄▄▅▅▅▅▅▅▆▆▆▆▆▇▇▇▇▇▇███</td></tr><tr><td>loss</td><td>▄▅▅▅▅▇▃▃▆█▅▅▆▄▄█▄▅▃▅▆▄▆▆▅▃▅▅▃▅▃▁▄▃▆▃▃▃▃▃</td></tr></table><br/></div><div class=\"wandb-col\"><h3>Run summary:</h3><br/><table class=\"wandb\"><tr><td>Episode reward</td><td>194.30435</td></tr><tr><td>Full average reward</td><td>120.87275</td></tr><tr><td>Lat 100 episodes Average reward</td><td>120.87275</td></tr><tr><td>best_score</td><td>275.24627</td></tr><tr><td>episode</td><td>99</td></tr><tr><td>loss</td><td>-63.46746</td></tr></table><br/></div></div>"
      ],
      "text/plain": [
       "<IPython.core.display.HTML object>"
      ]
     },
     "metadata": {},
     "output_type": "display_data"
    },
    {
     "data": {
      "text/html": [
       " View run <strong style=\"color:#cdcd00\">comic-bee-11</strong> at: <a href='https://wandb.ai/ai42/v3_reinforce_lunar_lander/runs/mv9nxmwr' target=\"_blank\">https://wandb.ai/ai42/v3_reinforce_lunar_lander/runs/mv9nxmwr</a><br/>Synced 5 W&B file(s), 100 media file(s), 0 artifact file(s) and 0 other file(s)"
      ],
      "text/plain": [
       "<IPython.core.display.HTML object>"
      ]
     },
     "metadata": {},
     "output_type": "display_data"
    },
    {
     "data": {
      "text/html": [
       "Find logs at: <code>./wandb/run-20231217_181645-mv9nxmwr/logs</code>"
      ],
      "text/plain": [
       "<IPython.core.display.HTML object>"
      ]
     },
     "metadata": {},
     "output_type": "display_data"
    }
   ],
   "source": [
    "\n",
    "import os\n",
    "from tqdm import tqdm\n",
    "if wandb_log:\n",
    "    # Initialize Weights & Biases\n",
    "    wandb.init(project=\"v3_reinforce_lunar_lander\", entity=\"ai42\")\n",
    "\n",
    "\n",
    "env = gym.make('LunarLander-v2', continuous=False, render_mode='rgb_array')\n",
    "REINFORCE = REINFORCE(env)\n",
    "if os.path.exists('./weights/reinforce_lunar_lander_best_v3.pth'):\n",
    "    REINFORCE.load_model('./weights/reinforce_lunar_lander_best_v3.pth')\n",
    "REINFORCE = REINFORCE.to(device)\n",
    "optimizer = optim.Adam(REINFORCE.parameters(), lr=0.005)\n",
    "scheduler = optim.lr_scheduler.StepLR(optimizer, step_size=100, gamma=0.9)\n",
    "\n",
    "#HYPERPARAMETERS\n",
    "lr=0.005 # learning rate\n",
    "gamma= 0.99 # discount factor\n",
    "batch_size= 256 # batch size\n",
    "max_episodes= 100 # maximum number of episodes\n",
    "\n",
    "\n",
    "# Define a video directory\n",
    "video_dir = './Videosv3' # Set this to your preferred directory\n",
    "os.makedirs(video_dir, exist_ok=True)\n",
    "\n",
    "# Wrap your environment to record videos\n",
    "env = gym.wrappers.RecordVideo(env, video_folder=video_dir, episode_trigger=lambda episode_id: True)\n",
    "\n",
    "# Best score initialization\n",
    "best_score = -np.inf\n",
    "\n",
    "# Set up lists to hold results\n",
    "all_rewards = []\n",
    "avg_rewards = []\n",
    "losses = []\n",
    "\n",
    "# training loop\n",
    "for episode in tqdm(range(max_episodes)):\n",
    "    \n",
    "    # Reset environment and record the starting state\n",
    "    state, info = env.reset()\n",
    "    \n",
    "    # Preprocess state\n",
    "    state = preprocess_state(state)\n",
    "\n",
    "    # Initialize lists to store rewards and log probabilities\n",
    "    log_probs = []\n",
    "    rewards = []\n",
    "    \n",
    "    # Initialize total reward for episode\n",
    "    total_reward = 0\n",
    "    \n",
    "    # Run episode\n",
    "    for t in range(env.spec.max_episode_steps):  # Limit the number of timesteps per episode:  env.spec.max_episode_steps by default is 1000\n",
    "        # Get action from agent \n",
    "        action = REINFORCE.act(state)\n",
    "        \n",
    "        # Take step in environment \n",
    "        next_state, reward, terminated, truncated, info = env.step(action)\n",
    "        \n",
    "        # Preprocess next state\n",
    "        next_state = preprocess_state(next_state)\n",
    "\n",
    "         #we use the log_prob method of the distribution to get the log probability of the action taken in the current state \n",
    "        log_prob = torch.log(REINFORCE.forward(state)[0][action])\n",
    "        \n",
    "        # Append log_prob to log probs list and reward to rewards list\n",
    "        log_probs.append(log_prob)\n",
    "        rewards.append(reward)\n",
    "\n",
    "        # Update total reward\n",
    "        total_reward += reward\n",
    "        \n",
    "        # Update state\n",
    "        state = next_state\n",
    "\n",
    "        #Break if terminated or truncated\n",
    "        if terminated or truncated:\n",
    "            break\n",
    "     \n",
    "    # Calculate loss using the reinforce_agent.update_policy() method \n",
    "    loss = REINFORCE.update_policy(rewards, log_probs, gamma)\n",
    "    \n",
    "    # Append loss to losses list\n",
    "    losses.append(loss)\n",
    "\n",
    "    # append the total reward of the episode to the list of all rewards\n",
    "    all_rewards.append(total_reward)\n",
    "    \n",
    "    # Calculate average reward of the last 100 episodes and save to variable\n",
    "    last100_avg_reward = np.mean(all_rewards[-100:])  # Average reward of the last 100 episodes\n",
    "    \n",
    "    # Calculate average reward of all episodes and save to variable\n",
    "    full_avg_reward = np.mean(all_rewards)  # Average reward of all episodes\n",
    "    \n",
    "    # Log total_reward of episode, last 100 episodes average reward, and full historic average reward to wandb\n",
    "    if wandb_log:\n",
    "        log_rewards(total_reward, last100_avg_reward, full_avg_reward)\n",
    "    \n",
    "        # Log loss to wandb\n",
    "        wandb.log({\"loss\": loss})\n",
    "\n",
    "        #Log and clear video directory\n",
    "        log_clear_video_directory(video_dir)\n",
    "        \n",
    "    #Save model if best score\n",
    "    if total_reward > best_score:\n",
    "        best_score = total_reward\n",
    "        REINFORCE.save_model('reinforce_lunar_lander_best_v3.pth', path='./weights/')\n",
    "\n",
    "    if wandb_log:\n",
    "        wandb.log({\"best_score\": best_score})\n",
    "        wandb.log({\"episode\": episode})\n",
    "    \n",
    "    #scheduler step for learning rate decay\n",
    "    scheduler.step()\n",
    "    \n",
    "# Close the environment and finish wandb run\n",
    "env.close()\n",
    "if wandb_log:\n",
    "    wandb.finish()\n"
   ]
  }
 ],
 "metadata": {
  "kernelspec": {
   "display_name": "pytorch-env",
   "language": "python",
   "name": "python3"
  },
  "language_info": {
   "codemirror_mode": {
    "name": "ipython",
    "version": 3
   },
   "file_extension": ".py",
   "mimetype": "text/x-python",
   "name": "python",
   "nbconvert_exporter": "python",
   "pygments_lexer": "ipython3",
   "version": "3.11.5"
  }
 },
 "nbformat": 4,
 "nbformat_minor": 2
}
